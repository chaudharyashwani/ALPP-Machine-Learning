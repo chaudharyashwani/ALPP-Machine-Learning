{
 "cells": [
  {
   "cell_type": "code",
   "execution_count": 1,
   "metadata": {},
   "outputs": [],
   "source": [
    "import pandas as pd\n",
    "import numpy as np\n",
    "from matplotlib import pyplot as plt\n",
    "%matplotlib inline\n",
    "import matplotlib\n",
    "matplotlib.rcParams[\"figure.figsize\"]=(20,10)"
   ]
  },
  {
   "cell_type": "code",
   "execution_count": 2,
   "metadata": {},
   "outputs": [
    {
     "data": {
      "text/html": [
       "<div>\n",
       "<style scoped>\n",
       "    .dataframe tbody tr th:only-of-type {\n",
       "        vertical-align: middle;\n",
       "    }\n",
       "\n",
       "    .dataframe tbody tr th {\n",
       "        vertical-align: top;\n",
       "    }\n",
       "\n",
       "    .dataframe thead th {\n",
       "        text-align: right;\n",
       "    }\n",
       "</style>\n",
       "<table border=\"1\" class=\"dataframe\">\n",
       "  <thead>\n",
       "    <tr style=\"text-align: right;\">\n",
       "      <th></th>\n",
       "      <th>village</th>\n",
       "      <th>soil</th>\n",
       "      <th>total_sqft</th>\n",
       "      <th>density</th>\n",
       "      <th>price</th>\n",
       "      <th>n_city</th>\n",
       "    </tr>\n",
       "  </thead>\n",
       "  <tbody>\n",
       "    <tr>\n",
       "      <th>0</th>\n",
       "      <td>Akhtyarpur</td>\n",
       "      <td>2 index</td>\n",
       "      <td>1056</td>\n",
       "      <td>2.0</td>\n",
       "      <td>39.07</td>\n",
       "      <td>2.0</td>\n",
       "    </tr>\n",
       "    <tr>\n",
       "      <th>1</th>\n",
       "      <td>Alamgirpur-Faridpur</td>\n",
       "      <td>4 index</td>\n",
       "      <td>2600</td>\n",
       "      <td>5.0</td>\n",
       "      <td>120.00</td>\n",
       "      <td>5.0</td>\n",
       "    </tr>\n",
       "    <tr>\n",
       "      <th>2</th>\n",
       "      <td>Andawali</td>\n",
       "      <td>3 index</td>\n",
       "      <td>1440</td>\n",
       "      <td>2.0</td>\n",
       "      <td>62.00</td>\n",
       "      <td>2.0</td>\n",
       "    </tr>\n",
       "    <tr>\n",
       "      <th>3</th>\n",
       "      <td>Aterna</td>\n",
       "      <td>3 index</td>\n",
       "      <td>1521</td>\n",
       "      <td>3.0</td>\n",
       "      <td>95.00</td>\n",
       "      <td>3.0</td>\n",
       "    </tr>\n",
       "    <tr>\n",
       "      <th>4</th>\n",
       "      <td>Atmadnagar Allipur</td>\n",
       "      <td>2 index</td>\n",
       "      <td>1200</td>\n",
       "      <td>2.0</td>\n",
       "      <td>51.00</td>\n",
       "      <td>2.0</td>\n",
       "    </tr>\n",
       "  </tbody>\n",
       "</table>\n",
       "</div>"
      ],
      "text/plain": [
       "               village     soil total_sqft  density   price  n_city\n",
       "0           Akhtyarpur  2 index       1056      2.0   39.07     2.0\n",
       "1  Alamgirpur-Faridpur  4 index       2600      5.0  120.00     5.0\n",
       "2             Andawali  3 index       1440      2.0   62.00     2.0\n",
       "3               Aterna  3 index       1521      3.0   95.00     3.0\n",
       "4   Atmadnagar Allipur  2 index       1200      2.0   51.00     2.0"
      ]
     },
     "execution_count": 2,
     "metadata": {},
     "output_type": "execute_result"
    }
   ],
   "source": [
    "df1 = pd.read_csv(r\"C:\\Users\\unite\\Desktop\\Meerut_Village_Land_Data.csv\")\n",
    "df1.head()"
   ]
  },
  {
   "cell_type": "code",
   "execution_count": null,
   "metadata": {},
   "outputs": [],
   "source": []
  },
  {
   "cell_type": "code",
   "execution_count": null,
   "metadata": {},
   "outputs": [],
   "source": []
  },
  {
   "cell_type": "code",
   "execution_count": 3,
   "metadata": {},
   "outputs": [
    {
     "data": {
      "text/plain": [
       "(14999, 6)"
      ]
     },
     "execution_count": 3,
     "metadata": {},
     "output_type": "execute_result"
    }
   ],
   "source": [
    "df1.shape"
   ]
  },
  {
   "cell_type": "code",
   "execution_count": 4,
   "metadata": {},
   "outputs": [
    {
     "data": {
      "text/plain": [
       "village        0\n",
       "soil          18\n",
       "total_sqft     0\n",
       "density       85\n",
       "price          0\n",
       "n_city        76\n",
       "dtype: int64"
      ]
     },
     "execution_count": 4,
     "metadata": {},
     "output_type": "execute_result"
    }
   ],
   "source": [
    "df1.isnull().sum()"
   ]
  },
  {
   "cell_type": "code",
   "execution_count": 5,
   "metadata": {},
   "outputs": [
    {
     "data": {
      "text/plain": [
       "village       0\n",
       "soil          0\n",
       "total_sqft    0\n",
       "density       0\n",
       "price         0\n",
       "n_city        0\n",
       "dtype: int64"
      ]
     },
     "execution_count": 5,
     "metadata": {},
     "output_type": "execute_result"
    }
   ],
   "source": [
    "df3=df1.dropna()\n",
    "df3.isnull().sum()"
   ]
  },
  {
   "cell_type": "code",
   "execution_count": 6,
   "metadata": {},
   "outputs": [
    {
     "data": {
      "text/plain": [
       "(14909, 6)"
      ]
     },
     "execution_count": 6,
     "metadata": {},
     "output_type": "execute_result"
    }
   ],
   "source": [
    "df3.shape"
   ]
  },
  {
   "cell_type": "code",
   "execution_count": 7,
   "metadata": {},
   "outputs": [
    {
     "name": "stderr",
     "output_type": "stream",
     "text": [
      "<ipython-input-7-a859aeaefba6>:1: SettingWithCopyWarning: \n",
      "A value is trying to be set on a copy of a slice from a DataFrame.\n",
      "Try using .loc[row_indexer,col_indexer] = value instead\n",
      "\n",
      "See the caveats in the documentation: https://pandas.pydata.org/pandas-docs/stable/user_guide/indexing.html#returning-a-view-versus-a-copy\n",
      "  df3['soil_in'] = df3['soil'].apply(lambda x: int(x.split(' ')[0]))\n"
     ]
    },
    {
     "data": {
      "text/plain": [
       "Int64Index([    0,     1,     2,     3,     4,     5,     6,     7,     8,\n",
       "                9,\n",
       "            ...\n",
       "            14989, 14990, 14991, 14992, 14993, 14994, 14995, 14996, 14997,\n",
       "            14998],\n",
       "           dtype='int64', length=14909)"
      ]
     },
     "execution_count": 7,
     "metadata": {},
     "output_type": "execute_result"
    }
   ],
   "source": [
    "df3['soil_in'] = df3['soil'].apply(lambda x: int(x.split(' ')[0]))\n",
    "df3.index.unique()"
   ]
  },
  {
   "cell_type": "code",
   "execution_count": 8,
   "metadata": {},
   "outputs": [
    {
     "data": {
      "text/html": [
       "<div>\n",
       "<style scoped>\n",
       "    .dataframe tbody tr th:only-of-type {\n",
       "        vertical-align: middle;\n",
       "    }\n",
       "\n",
       "    .dataframe tbody tr th {\n",
       "        vertical-align: top;\n",
       "    }\n",
       "\n",
       "    .dataframe thead th {\n",
       "        text-align: right;\n",
       "    }\n",
       "</style>\n",
       "<table border=\"1\" class=\"dataframe\">\n",
       "  <thead>\n",
       "    <tr style=\"text-align: right;\">\n",
       "      <th></th>\n",
       "      <th>village</th>\n",
       "      <th>soil</th>\n",
       "      <th>total_sqft</th>\n",
       "      <th>density</th>\n",
       "      <th>price</th>\n",
       "      <th>n_city</th>\n",
       "      <th>soil_in</th>\n",
       "    </tr>\n",
       "  </thead>\n",
       "  <tbody>\n",
       "    <tr>\n",
       "      <th>0</th>\n",
       "      <td>Akhtyarpur</td>\n",
       "      <td>2 index</td>\n",
       "      <td>1056</td>\n",
       "      <td>2.0</td>\n",
       "      <td>39.07</td>\n",
       "      <td>2.0</td>\n",
       "      <td>2</td>\n",
       "    </tr>\n",
       "    <tr>\n",
       "      <th>1</th>\n",
       "      <td>Alamgirpur-Faridpur</td>\n",
       "      <td>4 index</td>\n",
       "      <td>2600</td>\n",
       "      <td>5.0</td>\n",
       "      <td>120.00</td>\n",
       "      <td>5.0</td>\n",
       "      <td>4</td>\n",
       "    </tr>\n",
       "    <tr>\n",
       "      <th>2</th>\n",
       "      <td>Andawali</td>\n",
       "      <td>3 index</td>\n",
       "      <td>1440</td>\n",
       "      <td>2.0</td>\n",
       "      <td>62.00</td>\n",
       "      <td>2.0</td>\n",
       "      <td>3</td>\n",
       "    </tr>\n",
       "    <tr>\n",
       "      <th>3</th>\n",
       "      <td>Aterna</td>\n",
       "      <td>3 index</td>\n",
       "      <td>1521</td>\n",
       "      <td>3.0</td>\n",
       "      <td>95.00</td>\n",
       "      <td>3.0</td>\n",
       "      <td>3</td>\n",
       "    </tr>\n",
       "    <tr>\n",
       "      <th>4</th>\n",
       "      <td>Atmadnagar Allipur</td>\n",
       "      <td>2 index</td>\n",
       "      <td>1200</td>\n",
       "      <td>2.0</td>\n",
       "      <td>51.00</td>\n",
       "      <td>2.0</td>\n",
       "      <td>2</td>\n",
       "    </tr>\n",
       "  </tbody>\n",
       "</table>\n",
       "</div>"
      ],
      "text/plain": [
       "               village     soil total_sqft  density   price  n_city  soil_in\n",
       "0           Akhtyarpur  2 index       1056      2.0   39.07     2.0        2\n",
       "1  Alamgirpur-Faridpur  4 index       2600      5.0  120.00     5.0        4\n",
       "2             Andawali  3 index       1440      2.0   62.00     2.0        3\n",
       "3               Aterna  3 index       1521      3.0   95.00     3.0        3\n",
       "4   Atmadnagar Allipur  2 index       1200      2.0   51.00     2.0        2"
      ]
     },
     "execution_count": 8,
     "metadata": {},
     "output_type": "execute_result"
    }
   ],
   "source": [
    "df3.head()"
   ]
  },
  {
   "cell_type": "code",
   "execution_count": 9,
   "metadata": {},
   "outputs": [
    {
     "data": {
      "text/plain": [
       "array([ 2,  4,  3,  5,  1, 25, 43], dtype=int64)"
      ]
     },
     "execution_count": 9,
     "metadata": {},
     "output_type": "execute_result"
    }
   ],
   "source": [
    "df3['soil_in'].unique()"
   ]
  },
  {
   "cell_type": "code",
   "execution_count": 10,
   "metadata": {},
   "outputs": [
    {
     "data": {
      "text/html": [
       "<div>\n",
       "<style scoped>\n",
       "    .dataframe tbody tr th:only-of-type {\n",
       "        vertical-align: middle;\n",
       "    }\n",
       "\n",
       "    .dataframe tbody tr th {\n",
       "        vertical-align: top;\n",
       "    }\n",
       "\n",
       "    .dataframe thead th {\n",
       "        text-align: right;\n",
       "    }\n",
       "</style>\n",
       "<table border=\"1\" class=\"dataframe\">\n",
       "  <thead>\n",
       "    <tr style=\"text-align: right;\">\n",
       "      <th></th>\n",
       "      <th>village</th>\n",
       "      <th>soil</th>\n",
       "      <th>total_sqft</th>\n",
       "      <th>density</th>\n",
       "      <th>price</th>\n",
       "      <th>n_city</th>\n",
       "      <th>soil_in</th>\n",
       "    </tr>\n",
       "  </thead>\n",
       "  <tbody>\n",
       "    <tr>\n",
       "      <th>1718</th>\n",
       "      <td>Ukasia</td>\n",
       "      <td>25 index</td>\n",
       "      <td>8000</td>\n",
       "      <td>27.0</td>\n",
       "      <td>230.0</td>\n",
       "      <td>27.0</td>\n",
       "      <td>25</td>\n",
       "    </tr>\n",
       "    <tr>\n",
       "      <th>4684</th>\n",
       "      <td>Rachhoti</td>\n",
       "      <td>43 index</td>\n",
       "      <td>2400</td>\n",
       "      <td>40.0</td>\n",
       "      <td>660.0</td>\n",
       "      <td>40.0</td>\n",
       "      <td>43</td>\n",
       "    </tr>\n",
       "    <tr>\n",
       "      <th>14281</th>\n",
       "      <td>Machhri</td>\n",
       "      <td>25 index</td>\n",
       "      <td>8000</td>\n",
       "      <td>2.0</td>\n",
       "      <td>36.0</td>\n",
       "      <td>2.0</td>\n",
       "      <td>25</td>\n",
       "    </tr>\n",
       "  </tbody>\n",
       "</table>\n",
       "</div>"
      ],
      "text/plain": [
       "        village      soil total_sqft  density  price  n_city  soil_in\n",
       "1718     Ukasia  25 index       8000     27.0  230.0    27.0       25\n",
       "4684   Rachhoti  43 index       2400     40.0  660.0    40.0       43\n",
       "14281   Machhri  25 index       8000      2.0   36.0     2.0       25"
      ]
     },
     "execution_count": 10,
     "metadata": {},
     "output_type": "execute_result"
    }
   ],
   "source": [
    "df3[df3.soil_in>20]"
   ]
  },
  {
   "cell_type": "code",
   "execution_count": 11,
   "metadata": {},
   "outputs": [
    {
     "data": {
      "text/plain": [
       "array(['1056', '2600', '1440', ..., '660 - 670', '620 - 933',\n",
       "       '3450 - 3472'], dtype=object)"
      ]
     },
     "execution_count": 11,
     "metadata": {},
     "output_type": "execute_result"
    }
   ],
   "source": [
    "df3.total_sqft.unique()"
   ]
  },
  {
   "cell_type": "code",
   "execution_count": 12,
   "metadata": {},
   "outputs": [],
   "source": [
    "def is_float(x):\n",
    "    try:\n",
    "        float(x)\n",
    "    except:\n",
    "        return False\n",
    "    return True"
   ]
  },
  {
   "cell_type": "code",
   "execution_count": 13,
   "metadata": {},
   "outputs": [
    {
     "data": {
      "text/html": [
       "<div>\n",
       "<style scoped>\n",
       "    .dataframe tbody tr th:only-of-type {\n",
       "        vertical-align: middle;\n",
       "    }\n",
       "\n",
       "    .dataframe tbody tr th {\n",
       "        vertical-align: top;\n",
       "    }\n",
       "\n",
       "    .dataframe thead th {\n",
       "        text-align: right;\n",
       "    }\n",
       "</style>\n",
       "<table border=\"1\" class=\"dataframe\">\n",
       "  <thead>\n",
       "    <tr style=\"text-align: right;\">\n",
       "      <th></th>\n",
       "      <th>village</th>\n",
       "      <th>soil</th>\n",
       "      <th>total_sqft</th>\n",
       "      <th>density</th>\n",
       "      <th>price</th>\n",
       "      <th>n_city</th>\n",
       "      <th>soil_in</th>\n",
       "    </tr>\n",
       "  </thead>\n",
       "  <tbody>\n",
       "    <tr>\n",
       "      <th>30</th>\n",
       "      <td>Daulatpur</td>\n",
       "      <td>4 index</td>\n",
       "      <td>2100 - 2850</td>\n",
       "      <td>4.0</td>\n",
       "      <td>186.000</td>\n",
       "      <td>4.0</td>\n",
       "      <td>4</td>\n",
       "    </tr>\n",
       "    <tr>\n",
       "      <th>122</th>\n",
       "      <td>Salawa</td>\n",
       "      <td>4 index</td>\n",
       "      <td>3067 - 8156</td>\n",
       "      <td>4.0</td>\n",
       "      <td>477.000</td>\n",
       "      <td>4.0</td>\n",
       "      <td>4</td>\n",
       "    </tr>\n",
       "    <tr>\n",
       "      <th>137</th>\n",
       "      <td>Ulakhpur</td>\n",
       "      <td>2 index</td>\n",
       "      <td>1042 - 1105</td>\n",
       "      <td>2.0</td>\n",
       "      <td>54.005</td>\n",
       "      <td>2.0</td>\n",
       "      <td>2</td>\n",
       "    </tr>\n",
       "    <tr>\n",
       "      <th>165</th>\n",
       "      <td>Banwaripur</td>\n",
       "      <td>2 index</td>\n",
       "      <td>1145 - 1340</td>\n",
       "      <td>2.0</td>\n",
       "      <td>43.490</td>\n",
       "      <td>2.0</td>\n",
       "      <td>2</td>\n",
       "    </tr>\n",
       "    <tr>\n",
       "      <th>188</th>\n",
       "      <td>Datavali Gesupur</td>\n",
       "      <td>2 index</td>\n",
       "      <td>1015 - 1540</td>\n",
       "      <td>2.0</td>\n",
       "      <td>56.800</td>\n",
       "      <td>2.0</td>\n",
       "      <td>2</td>\n",
       "    </tr>\n",
       "  </tbody>\n",
       "</table>\n",
       "</div>"
      ],
      "text/plain": [
       "              village     soil   total_sqft  density    price  n_city  soil_in\n",
       "30          Daulatpur  4 index  2100 - 2850      4.0  186.000     4.0        4\n",
       "122            Salawa  4 index  3067 - 8156      4.0  477.000     4.0        4\n",
       "137          Ulakhpur  2 index  1042 - 1105      2.0   54.005     2.0        2\n",
       "165        Banwaripur  2 index  1145 - 1340      2.0   43.490     2.0        2\n",
       "188  Datavali Gesupur  2 index  1015 - 1540      2.0   56.800     2.0        2"
      ]
     },
     "execution_count": 13,
     "metadata": {},
     "output_type": "execute_result"
    }
   ],
   "source": [
    " df3[~df3['total_sqft'].apply(is_float)].head()"
   ]
  },
  {
   "cell_type": "code",
   "execution_count": 14,
   "metadata": {},
   "outputs": [],
   "source": [
    " def convert_sqft_to_num(x):\n",
    "    tokens = x.split('-')\n",
    "    if len(tokens) == 2:\n",
    "        return (float(tokens[0])+float(tokens[1]))/2\n",
    "    try:\n",
    "        return float(x)\n",
    "    except:\n",
    "        return None"
   ]
  },
  {
   "cell_type": "code",
   "execution_count": 15,
   "metadata": {},
   "outputs": [
    {
     "data": {
      "text/html": [
       "<div>\n",
       "<style scoped>\n",
       "    .dataframe tbody tr th:only-of-type {\n",
       "        vertical-align: middle;\n",
       "    }\n",
       "\n",
       "    .dataframe tbody tr th {\n",
       "        vertical-align: top;\n",
       "    }\n",
       "\n",
       "    .dataframe thead th {\n",
       "        text-align: right;\n",
       "    }\n",
       "</style>\n",
       "<table border=\"1\" class=\"dataframe\">\n",
       "  <thead>\n",
       "    <tr style=\"text-align: right;\">\n",
       "      <th></th>\n",
       "      <th>village</th>\n",
       "      <th>soil</th>\n",
       "      <th>total_sqft</th>\n",
       "      <th>density</th>\n",
       "      <th>price</th>\n",
       "      <th>n_city</th>\n",
       "      <th>soil_in</th>\n",
       "    </tr>\n",
       "  </thead>\n",
       "  <tbody>\n",
       "    <tr>\n",
       "      <th>0</th>\n",
       "      <td>Akhtyarpur</td>\n",
       "      <td>2 index</td>\n",
       "      <td>1056.0</td>\n",
       "      <td>2.0</td>\n",
       "      <td>39.07</td>\n",
       "      <td>2.0</td>\n",
       "      <td>2</td>\n",
       "    </tr>\n",
       "    <tr>\n",
       "      <th>1</th>\n",
       "      <td>Alamgirpur-Faridpur</td>\n",
       "      <td>4 index</td>\n",
       "      <td>2600.0</td>\n",
       "      <td>5.0</td>\n",
       "      <td>120.00</td>\n",
       "      <td>5.0</td>\n",
       "      <td>4</td>\n",
       "    </tr>\n",
       "  </tbody>\n",
       "</table>\n",
       "</div>"
      ],
      "text/plain": [
       "               village     soil  total_sqft  density   price  n_city  soil_in\n",
       "0           Akhtyarpur  2 index      1056.0      2.0   39.07     2.0        2\n",
       "1  Alamgirpur-Faridpur  4 index      2600.0      5.0  120.00     5.0        4"
      ]
     },
     "execution_count": 15,
     "metadata": {},
     "output_type": "execute_result"
    }
   ],
   "source": [
    "df4 = df3.copy()\n",
    "df4.total_sqft = df4.total_sqft.apply(convert_sqft_to_num)\n",
    "df4 = df4[df4.total_sqft.notnull()]\n",
    "df4.head(2)"
   ]
  },
  {
   "cell_type": "code",
   "execution_count": 16,
   "metadata": {},
   "outputs": [
    {
     "data": {
      "text/plain": [
       "2450.0"
      ]
     },
     "execution_count": 16,
     "metadata": {},
     "output_type": "execute_result"
    }
   ],
   "source": [
    "convert_sqft_to_num('2100-2800')"
   ]
  },
  {
   "cell_type": "code",
   "execution_count": null,
   "metadata": {},
   "outputs": [],
   "source": []
  },
  {
   "cell_type": "code",
   "execution_count": null,
   "metadata": {},
   "outputs": [],
   "source": []
  },
  {
   "cell_type": "code",
   "execution_count": null,
   "metadata": {},
   "outputs": [],
   "source": []
  },
  {
   "cell_type": "code",
   "execution_count": null,
   "metadata": {},
   "outputs": [],
   "source": []
  },
  {
   "cell_type": "code",
   "execution_count": null,
   "metadata": {},
   "outputs": [],
   "source": []
  },
  {
   "cell_type": "code",
   "execution_count": 17,
   "metadata": {},
   "outputs": [
    {
     "data": {
      "text/html": [
       "<div>\n",
       "<style scoped>\n",
       "    .dataframe tbody tr th:only-of-type {\n",
       "        vertical-align: middle;\n",
       "    }\n",
       "\n",
       "    .dataframe tbody tr th {\n",
       "        vertical-align: top;\n",
       "    }\n",
       "\n",
       "    .dataframe thead th {\n",
       "        text-align: right;\n",
       "    }\n",
       "</style>\n",
       "<table border=\"1\" class=\"dataframe\">\n",
       "  <thead>\n",
       "    <tr style=\"text-align: right;\">\n",
       "      <th></th>\n",
       "      <th>village</th>\n",
       "      <th>soil</th>\n",
       "      <th>total_sqft</th>\n",
       "      <th>density</th>\n",
       "      <th>price</th>\n",
       "      <th>n_city</th>\n",
       "      <th>soil_in</th>\n",
       "    </tr>\n",
       "  </thead>\n",
       "  <tbody>\n",
       "    <tr>\n",
       "      <th>0</th>\n",
       "      <td>Akhtyarpur</td>\n",
       "      <td>2 index</td>\n",
       "      <td>1056.0</td>\n",
       "      <td>2.0</td>\n",
       "      <td>39.07</td>\n",
       "      <td>2.0</td>\n",
       "      <td>2</td>\n",
       "    </tr>\n",
       "    <tr>\n",
       "      <th>1</th>\n",
       "      <td>Alamgirpur-Faridpur</td>\n",
       "      <td>4 index</td>\n",
       "      <td>2600.0</td>\n",
       "      <td>5.0</td>\n",
       "      <td>120.00</td>\n",
       "      <td>5.0</td>\n",
       "      <td>4</td>\n",
       "    </tr>\n",
       "    <tr>\n",
       "      <th>2</th>\n",
       "      <td>Andawali</td>\n",
       "      <td>3 index</td>\n",
       "      <td>1440.0</td>\n",
       "      <td>2.0</td>\n",
       "      <td>62.00</td>\n",
       "      <td>2.0</td>\n",
       "      <td>3</td>\n",
       "    </tr>\n",
       "    <tr>\n",
       "      <th>3</th>\n",
       "      <td>Aterna</td>\n",
       "      <td>3 index</td>\n",
       "      <td>1521.0</td>\n",
       "      <td>3.0</td>\n",
       "      <td>95.00</td>\n",
       "      <td>3.0</td>\n",
       "      <td>3</td>\n",
       "    </tr>\n",
       "  </tbody>\n",
       "</table>\n",
       "</div>"
      ],
      "text/plain": [
       "               village     soil  total_sqft  density   price  n_city  soil_in\n",
       "0           Akhtyarpur  2 index      1056.0      2.0   39.07     2.0        2\n",
       "1  Alamgirpur-Faridpur  4 index      2600.0      5.0  120.00     5.0        4\n",
       "2             Andawali  3 index      1440.0      2.0   62.00     2.0        3\n",
       "3               Aterna  3 index      1521.0      3.0   95.00     3.0        3"
      ]
     },
     "execution_count": 17,
     "metadata": {},
     "output_type": "execute_result"
    }
   ],
   "source": [
    "   df4.head(4) "
   ]
  },
  {
   "cell_type": "code",
   "execution_count": null,
   "metadata": {},
   "outputs": [],
   "source": []
  },
  {
   "cell_type": "code",
   "execution_count": 18,
   "metadata": {},
   "outputs": [
    {
     "data": {
      "text/html": [
       "<div>\n",
       "<style scoped>\n",
       "    .dataframe tbody tr th:only-of-type {\n",
       "        vertical-align: middle;\n",
       "    }\n",
       "\n",
       "    .dataframe tbody tr th {\n",
       "        vertical-align: top;\n",
       "    }\n",
       "\n",
       "    .dataframe thead th {\n",
       "        text-align: right;\n",
       "    }\n",
       "</style>\n",
       "<table border=\"1\" class=\"dataframe\">\n",
       "  <thead>\n",
       "    <tr style=\"text-align: right;\">\n",
       "      <th></th>\n",
       "      <th>village</th>\n",
       "      <th>soil</th>\n",
       "      <th>total_sqft</th>\n",
       "      <th>density</th>\n",
       "      <th>price</th>\n",
       "      <th>n_city</th>\n",
       "      <th>soil_in</th>\n",
       "      <th>price_per_sqft</th>\n",
       "    </tr>\n",
       "  </thead>\n",
       "  <tbody>\n",
       "    <tr>\n",
       "      <th>0</th>\n",
       "      <td>Akhtyarpur</td>\n",
       "      <td>2 index</td>\n",
       "      <td>1056.0</td>\n",
       "      <td>2.0</td>\n",
       "      <td>39.07</td>\n",
       "      <td>2.0</td>\n",
       "      <td>2</td>\n",
       "      <td>369.981061</td>\n",
       "    </tr>\n",
       "    <tr>\n",
       "      <th>1</th>\n",
       "      <td>Alamgirpur-Faridpur</td>\n",
       "      <td>4 index</td>\n",
       "      <td>2600.0</td>\n",
       "      <td>5.0</td>\n",
       "      <td>120.00</td>\n",
       "      <td>5.0</td>\n",
       "      <td>4</td>\n",
       "      <td>461.538462</td>\n",
       "    </tr>\n",
       "    <tr>\n",
       "      <th>2</th>\n",
       "      <td>Andawali</td>\n",
       "      <td>3 index</td>\n",
       "      <td>1440.0</td>\n",
       "      <td>2.0</td>\n",
       "      <td>62.00</td>\n",
       "      <td>2.0</td>\n",
       "      <td>3</td>\n",
       "      <td>430.555556</td>\n",
       "    </tr>\n",
       "    <tr>\n",
       "      <th>3</th>\n",
       "      <td>Aterna</td>\n",
       "      <td>3 index</td>\n",
       "      <td>1521.0</td>\n",
       "      <td>3.0</td>\n",
       "      <td>95.00</td>\n",
       "      <td>3.0</td>\n",
       "      <td>3</td>\n",
       "      <td>624.589086</td>\n",
       "    </tr>\n",
       "    <tr>\n",
       "      <th>4</th>\n",
       "      <td>Atmadnagar Allipur</td>\n",
       "      <td>2 index</td>\n",
       "      <td>1200.0</td>\n",
       "      <td>2.0</td>\n",
       "      <td>51.00</td>\n",
       "      <td>2.0</td>\n",
       "      <td>2</td>\n",
       "      <td>425.000000</td>\n",
       "    </tr>\n",
       "  </tbody>\n",
       "</table>\n",
       "</div>"
      ],
      "text/plain": [
       "               village     soil  total_sqft  density   price  n_city  soil_in  \\\n",
       "0           Akhtyarpur  2 index      1056.0      2.0   39.07     2.0        2   \n",
       "1  Alamgirpur-Faridpur  4 index      2600.0      5.0  120.00     5.0        4   \n",
       "2             Andawali  3 index      1440.0      2.0   62.00     2.0        3   \n",
       "3               Aterna  3 index      1521.0      3.0   95.00     3.0        3   \n",
       "4   Atmadnagar Allipur  2 index      1200.0      2.0   51.00     2.0        2   \n",
       "\n",
       "   price_per_sqft  \n",
       "0      369.981061  \n",
       "1      461.538462  \n",
       "2      430.555556  \n",
       "3      624.589086  \n",
       "4      425.000000  "
      ]
     },
     "execution_count": 18,
     "metadata": {},
     "output_type": "execute_result"
    }
   ],
   "source": [
    "df5=df4.copy()\n",
    "df5['price_per_sqft' ]=df5['price']*10000 /df5['total_sqft']\n",
    "df5.head(5) "
   ]
  },
  {
   "cell_type": "code",
   "execution_count": 19,
   "metadata": {},
   "outputs": [
    {
     "data": {
      "text/plain": [
       "656"
      ]
     },
     "execution_count": 19,
     "metadata": {},
     "output_type": "execute_result"
    }
   ],
   "source": [
    "len(df5.village.unique())"
   ]
  },
  {
   "cell_type": "code",
   "execution_count": 20,
   "metadata": {},
   "outputs": [
    {
     "data": {
      "text/plain": [
       "village\n",
       "Bahadurpur           64\n",
       "Sadullapur           46\n",
       "Aidalpur             46\n",
       "Khanpur              46\n",
       "Mirzapur             45\n",
       "                     ..\n",
       "Dhuma Nagli          20\n",
       "Tajpura              19\n",
       "Mukhtyarpur Nagla    19\n",
       "Govindpuri           19\n",
       "Azampur              19\n",
       "Name: village, Length: 656, dtype: int64"
      ]
     },
     "execution_count": 20,
     "metadata": {},
     "output_type": "execute_result"
    }
   ],
   "source": [
    "df5.village=df5.village.apply(lambda x: x.strip()) \n",
    "village_stats=df5.groupby('village')['village'].agg('count').sort_values(ascending=False)\n",
    "village_stats\n"
   ]
  },
  {
   "cell_type": "code",
   "execution_count": 21,
   "metadata": {},
   "outputs": [
    {
     "data": {
      "text/plain": [
       "village\n",
       "Ulakhpur                       20\n",
       "Jamalpur Khadar                20\n",
       "Tofapur                        20\n",
       "Tanda                          20\n",
       "Rampur Sadhu Nagli             20\n",
       "Ajnauli                        20\n",
       "Khanwala                       20\n",
       "Jaisinghpur                    20\n",
       "Bhadaura                       20\n",
       "Zafrabad-Durweshpur            20\n",
       "Atrara                         20\n",
       "Gajupura                       20\n",
       "Ganeshpur                      20\n",
       "Garina                         20\n",
       "Gayanagla Urf Nagla Katar      20\n",
       "Samaspur                       20\n",
       "Gesupur Januvi                 20\n",
       "Amanullapur                    20\n",
       "Baram                          20\n",
       "Samaspur Surani                20\n",
       "Shamaspur                      20\n",
       "Banwaripur                     20\n",
       "Guramb                         20\n",
       "Sikandarpur                    20\n",
       "Aminagar Urf Bhurbaral (CT)    20\n",
       "Amehra Adipur (CT)             20\n",
       "Jandheri                       20\n",
       "Dhuma Nagli                    20\n",
       "Tajpura                        19\n",
       "Mukhtyarpur Nagla              19\n",
       "Govindpuri                     19\n",
       "Azampur                        19\n",
       "Name: village, dtype: int64"
      ]
     },
     "execution_count": 21,
     "metadata": {},
     "output_type": "execute_result"
    }
   ],
   "source": [
    "village_stats_less_than_20=village_stats[village_stats<=20]\n",
    "village_stats_less_than_20"
   ]
  },
  {
   "cell_type": "code",
   "execution_count": 22,
   "metadata": {},
   "outputs": [
    {
     "data": {
      "text/plain": [
       "656"
      ]
     },
     "execution_count": 22,
     "metadata": {},
     "output_type": "execute_result"
    }
   ],
   "source": [
    "len(df5.village.unique())"
   ]
  },
  {
   "cell_type": "code",
   "execution_count": 23,
   "metadata": {},
   "outputs": [
    {
     "data": {
      "text/plain": [
       "625"
      ]
     },
     "execution_count": 23,
     "metadata": {},
     "output_type": "execute_result"
    }
   ],
   "source": [
    "df5.village=df5.village.apply(lambda x: 'other' if x in village_stats_less_than_20 else x)\n",
    "len(df5.village.unique())"
   ]
  },
  {
   "cell_type": "code",
   "execution_count": 24,
   "metadata": {},
   "outputs": [
    {
     "data": {
      "text/html": [
       "<div>\n",
       "<style scoped>\n",
       "    .dataframe tbody tr th:only-of-type {\n",
       "        vertical-align: middle;\n",
       "    }\n",
       "\n",
       "    .dataframe tbody tr th {\n",
       "        vertical-align: top;\n",
       "    }\n",
       "\n",
       "    .dataframe thead th {\n",
       "        text-align: right;\n",
       "    }\n",
       "</style>\n",
       "<table border=\"1\" class=\"dataframe\">\n",
       "  <thead>\n",
       "    <tr style=\"text-align: right;\">\n",
       "      <th></th>\n",
       "      <th>village</th>\n",
       "      <th>soil</th>\n",
       "      <th>total_sqft</th>\n",
       "      <th>density</th>\n",
       "      <th>price</th>\n",
       "      <th>n_city</th>\n",
       "      <th>soil_in</th>\n",
       "      <th>price_per_sqft</th>\n",
       "    </tr>\n",
       "  </thead>\n",
       "  <tbody>\n",
       "    <tr>\n",
       "      <th>0</th>\n",
       "      <td>Akhtyarpur</td>\n",
       "      <td>2 index</td>\n",
       "      <td>1056.0</td>\n",
       "      <td>2.0</td>\n",
       "      <td>39.07</td>\n",
       "      <td>2.0</td>\n",
       "      <td>2</td>\n",
       "      <td>369.981061</td>\n",
       "    </tr>\n",
       "    <tr>\n",
       "      <th>1</th>\n",
       "      <td>Alamgirpur-Faridpur</td>\n",
       "      <td>4 index</td>\n",
       "      <td>2600.0</td>\n",
       "      <td>5.0</td>\n",
       "      <td>120.00</td>\n",
       "      <td>5.0</td>\n",
       "      <td>4</td>\n",
       "      <td>461.538462</td>\n",
       "    </tr>\n",
       "    <tr>\n",
       "      <th>2</th>\n",
       "      <td>Andawali</td>\n",
       "      <td>3 index</td>\n",
       "      <td>1440.0</td>\n",
       "      <td>2.0</td>\n",
       "      <td>62.00</td>\n",
       "      <td>2.0</td>\n",
       "      <td>3</td>\n",
       "      <td>430.555556</td>\n",
       "    </tr>\n",
       "    <tr>\n",
       "      <th>3</th>\n",
       "      <td>Aterna</td>\n",
       "      <td>3 index</td>\n",
       "      <td>1521.0</td>\n",
       "      <td>3.0</td>\n",
       "      <td>95.00</td>\n",
       "      <td>3.0</td>\n",
       "      <td>3</td>\n",
       "      <td>624.589086</td>\n",
       "    </tr>\n",
       "    <tr>\n",
       "      <th>4</th>\n",
       "      <td>Atmadnagar Allipur</td>\n",
       "      <td>2 index</td>\n",
       "      <td>1200.0</td>\n",
       "      <td>2.0</td>\n",
       "      <td>51.00</td>\n",
       "      <td>2.0</td>\n",
       "      <td>2</td>\n",
       "      <td>425.000000</td>\n",
       "    </tr>\n",
       "  </tbody>\n",
       "</table>\n",
       "</div>"
      ],
      "text/plain": [
       "               village     soil  total_sqft  density   price  n_city  soil_in  \\\n",
       "0           Akhtyarpur  2 index      1056.0      2.0   39.07     2.0        2   \n",
       "1  Alamgirpur-Faridpur  4 index      2600.0      5.0  120.00     5.0        4   \n",
       "2             Andawali  3 index      1440.0      2.0   62.00     2.0        3   \n",
       "3               Aterna  3 index      1521.0      3.0   95.00     3.0        3   \n",
       "4   Atmadnagar Allipur  2 index      1200.0      2.0   51.00     2.0        2   \n",
       "\n",
       "   price_per_sqft  \n",
       "0      369.981061  \n",
       "1      461.538462  \n",
       "2      430.555556  \n",
       "3      624.589086  \n",
       "4      425.000000  "
      ]
     },
     "execution_count": 24,
     "metadata": {},
     "output_type": "execute_result"
    }
   ],
   "source": [
    "df5.head()\n"
   ]
  },
  {
   "cell_type": "markdown",
   "metadata": {},
   "source": [
    "Now let's remove data error (where total_sqft(land)is very less and population density is high ) (\"Look like city data so remove it\")"
   ]
  },
  {
   "cell_type": "code",
   "execution_count": 25,
   "metadata": {},
   "outputs": [
    {
     "data": {
      "text/html": [
       "<div>\n",
       "<style scoped>\n",
       "    .dataframe tbody tr th:only-of-type {\n",
       "        vertical-align: middle;\n",
       "    }\n",
       "\n",
       "    .dataframe tbody tr th {\n",
       "        vertical-align: top;\n",
       "    }\n",
       "\n",
       "    .dataframe thead th {\n",
       "        text-align: right;\n",
       "    }\n",
       "</style>\n",
       "<table border=\"1\" class=\"dataframe\">\n",
       "  <thead>\n",
       "    <tr style=\"text-align: right;\">\n",
       "      <th></th>\n",
       "      <th>village</th>\n",
       "      <th>soil</th>\n",
       "      <th>total_sqft</th>\n",
       "      <th>density</th>\n",
       "      <th>price</th>\n",
       "      <th>n_city</th>\n",
       "      <th>soil_in</th>\n",
       "      <th>price_per_sqft</th>\n",
       "    </tr>\n",
       "  </thead>\n",
       "  <tbody>\n",
       "    <tr>\n",
       "      <th>9</th>\n",
       "      <td>Baparsa</td>\n",
       "      <td>5 index</td>\n",
       "      <td>1020.0</td>\n",
       "      <td>6.0</td>\n",
       "      <td>370.0</td>\n",
       "      <td>6.0</td>\n",
       "      <td>5</td>\n",
       "      <td>3627.450980</td>\n",
       "    </tr>\n",
       "    <tr>\n",
       "      <th>45</th>\n",
       "      <td>Jamalpur Jalalpur</td>\n",
       "      <td>4 index</td>\n",
       "      <td>600.0</td>\n",
       "      <td>9.0</td>\n",
       "      <td>200.0</td>\n",
       "      <td>9.0</td>\n",
       "      <td>4</td>\n",
       "      <td>3333.333333</td>\n",
       "    </tr>\n",
       "    <tr>\n",
       "      <th>68</th>\n",
       "      <td>Khirwa Jalalpur</td>\n",
       "      <td>4 index</td>\n",
       "      <td>1350.0</td>\n",
       "      <td>7.0</td>\n",
       "      <td>85.0</td>\n",
       "      <td>7.0</td>\n",
       "      <td>4</td>\n",
       "      <td>629.629630</td>\n",
       "    </tr>\n",
       "    <tr>\n",
       "      <th>70</th>\n",
       "      <td>Khiwai</td>\n",
       "      <td>3 index</td>\n",
       "      <td>500.0</td>\n",
       "      <td>3.0</td>\n",
       "      <td>100.0</td>\n",
       "      <td>3.0</td>\n",
       "      <td>3</td>\n",
       "      <td>2000.000000</td>\n",
       "    </tr>\n",
       "    <tr>\n",
       "      <th>84</th>\n",
       "      <td>Maithna Indersingh</td>\n",
       "      <td>3 index</td>\n",
       "      <td>1499.0</td>\n",
       "      <td>5.0</td>\n",
       "      <td>102.0</td>\n",
       "      <td>5.0</td>\n",
       "      <td>3</td>\n",
       "      <td>680.453636</td>\n",
       "    </tr>\n",
       "  </tbody>\n",
       "</table>\n",
       "</div>"
      ],
      "text/plain": [
       "               village     soil  total_sqft  density  price  n_city  soil_in  \\\n",
       "9              Baparsa  5 index      1020.0      6.0  370.0     6.0        5   \n",
       "45   Jamalpur Jalalpur  4 index       600.0      9.0  200.0     9.0        4   \n",
       "68     Khirwa Jalalpur  4 index      1350.0      7.0   85.0     7.0        4   \n",
       "70              Khiwai  3 index       500.0      3.0  100.0     3.0        3   \n",
       "84  Maithna Indersingh  3 index      1499.0      5.0  102.0     5.0        3   \n",
       "\n",
       "    price_per_sqft  \n",
       "9      3627.450980  \n",
       "45     3333.333333  \n",
       "68      629.629630  \n",
       "70     2000.000000  \n",
       "84      680.453636  "
      ]
     },
     "execution_count": 25,
     "metadata": {},
     "output_type": "execute_result"
    }
   ],
   "source": [
    "df5[df5.total_sqft/df5.density<300].head()"
   ]
  },
  {
   "cell_type": "code",
   "execution_count": 26,
   "metadata": {},
   "outputs": [
    {
     "data": {
      "text/plain": [
       "(14856, 8)"
      ]
     },
     "execution_count": 26,
     "metadata": {},
     "output_type": "execute_result"
    }
   ],
   "source": [
    "df5.shape"
   ]
  },
  {
   "cell_type": "code",
   "execution_count": 27,
   "metadata": {},
   "outputs": [],
   "source": [
    "df6=df5[~(df5.total_sqft/df5.density<300)]"
   ]
  },
  {
   "cell_type": "code",
   "execution_count": 28,
   "metadata": {},
   "outputs": [
    {
     "data": {
      "text/plain": [
       "(14012, 8)"
      ]
     },
     "execution_count": 28,
     "metadata": {},
     "output_type": "execute_result"
    }
   ],
   "source": [
    "df6.shape"
   ]
  },
  {
   "cell_type": "code",
   "execution_count": 29,
   "metadata": {},
   "outputs": [
    {
     "data": {
      "text/plain": [
       "count    14012.000000\n",
       "mean       637.316420\n",
       "std        477.715971\n",
       "min         26.782981\n",
       "25%        413.333333\n",
       "50%        528.129613\n",
       "75%        699.947183\n",
       "max      18860.016764\n",
       "Name: price_per_sqft, dtype: float64"
      ]
     },
     "execution_count": 29,
     "metadata": {},
     "output_type": "execute_result"
    }
   ],
   "source": [
    "df6.price_per_sqft.describe()"
   ]
  },
  {
   "cell_type": "markdown",
   "metadata": {},
   "source": [
    " Let's now remove extream cases like [max -18860.016764]  based upon SD\n",
    " \n",
    " anything {above (mean-SD) and below (mean+SD)} we will remove"
   ]
  },
  {
   "cell_type": "code",
   "execution_count": 30,
   "metadata": {},
   "outputs": [
    {
     "data": {
      "text/plain": [
       "(11341, 8)"
      ]
     },
     "execution_count": 30,
     "metadata": {},
     "output_type": "execute_result"
    }
   ],
   "source": [
    "def remove_pps_outliers(df):\n",
    "    df_out = pd.DataFrame()\n",
    "    for key, subdf in df.groupby('village'):\n",
    "        m = np.mean(subdf.price_per_sqft)\n",
    "        st = np.std(subdf.price_per_sqft)\n",
    "        reduced_df = subdf[(subdf.price_per_sqft>(m-st)) & (subdf.price_per_sqft<=(m+st))]\n",
    "        df_out = pd.concat([df_out,reduced_df],ignore_index=True)\n",
    "    return df_out\n",
    "df7 = remove_pps_outliers(df6)\n",
    "df7.shape"
   ]
  },
  {
   "cell_type": "markdown",
   "metadata": {},
   "source": [
    "Now we will check how does the soil fertility index 2 (and 3  property prices look like and Let's check for my village \"Karnawal\""
   ]
  },
  {
   "cell_type": "markdown",
   "metadata": {},
   "source": [
    "plot"
   ]
  },
  {
   "cell_type": "code",
   "execution_count": 31,
   "metadata": {},
   "outputs": [
    {
     "data": {
      "image/png": "[encoded data removed]",
      "text/plain": [
       "<Figure size 1080x720 with 1 Axes>"
      ]
     },
     "metadata": {
      "needs_background": "light"
     },
     "output_type": "display_data"
    }
   ],
   "source": [
    "def plot_scatter_chart(df,village):\n",
    "    index2 = df[(df.village==village) & (df.soil_in==2)]\n",
    "    index3 = df[(df.village==village) & (df.soil_in==3)]\n",
    "    matplotlib.rcParams['figure.figsize'] = (15,10)\n",
    "    plt.scatter(index2.total_sqft,index2.price,color='blue',label='2 index', s=50)\n",
    "    plt.scatter(index3.total_sqft,index3.price,marker='+', color='green',label='3 index', s=50)\n",
    "    plt.xlabel(\"Total Square Feet Area\")\n",
    "    plt.ylabel(\"Price (Thousand Indian Rupees)\")\n",
    "    plt.title(village)\n",
    "    plt.legend()\n",
    "    \n",
    "plot_scatter_chart(df7,\"Bahrala\")"
   ]
  },
  {
   "cell_type": "markdown",
   "metadata": {},
   "source": [
    "We should also remove properties where for same Village, the price of (for example) 3 index soil land (means more fertile) is less than 2 index soil land (means less fertile than 3 index) with same square ft area. What we will do is for a given location, we will build a dictionary of stats per index, i.e. { '1' : { 'mean' : 4000, 'std : 2000, 'count': 34 }, '2' : { 'mean' : 4300, 'std : 2300, 'count': 22 },\n",
    "}"
   ]
  },
  {
   "cell_type": "code",
   "execution_count": 32,
   "metadata": {},
   "outputs": [],
   "source": [
    "def remove_vill_outliers(df):\n",
    "    exclude_indices = np.array([])\n",
    "    for village, village_df in df.groupby('village'):\n",
    "        vill_stats = {}\n",
    "        for vill, vill_df in village_df.groupby('soil_in'):\n",
    "            vill_stats[vill] = {\n",
    "                'mean': np.mean(vill_df.price_per_sqft),\n",
    "                'std': np.std(vill_df.price_per_sqft),\n",
    "                'count': vill_df.shape[0]\n",
    "            }\n",
    "        for bhk, vill_df in village_df.groupby('soil_in'):\n",
    "            stats = vill_stats.get(bhk-1)\n",
    "            if stats and stats['count']>5:\n",
    "                exclude_indices = np.append(exclude_indices, vill_df[vill_df.price_per_sqft<(stats['mean'])].index.values)\n",
    "    return df.drop(exclude_indices,axis='index')\n"
   ]
  },
  {
   "cell_type": "code",
   "execution_count": 33,
   "metadata": {},
   "outputs": [
    {
     "data": {
      "text/plain": [
       "(9489, 8)"
      ]
     },
     "execution_count": 33,
     "metadata": {},
     "output_type": "execute_result"
    }
   ],
   "source": [
    "df8 = remove_vill_outliers(df7)\n",
    "# df8 = df7.copy()\n",
    "df8.shape"
   ]
  },
  {
   "cell_type": "code",
   "execution_count": 34,
   "metadata": {},
   "outputs": [
    {
     "data": {
      "text/plain": [
       "Text(0, 0.5, 'Count')"
      ]
     },
     "execution_count": 34,
     "metadata": {},
     "output_type": "execute_result"
    },
    {
     "data": {
      "image/png": "[encoded data removed]",
      "text/plain": [
       "<Figure size 1440x720 with 1 Axes>"
      ]
     },
     "metadata": {
      "needs_background": "light"
     },
     "output_type": "display_data"
    }
   ],
   "source": [
    "import matplotlib\n",
    "matplotlib.rcParams[\"figure.figsize\"]=(20,10)\n",
    "plt.hist(df8.price_per_sqft,rwidth=0.8)\n",
    "plt.xlabel(\"Price Per Square Feet\")\n",
    "plt.ylabel(\"Count\")"
   ]
  },
  {
   "cell_type": "code",
   "execution_count": 35,
   "metadata": {},
   "outputs": [
    {
     "data": {
      "text/plain": [
       "array([ 2.,  1.,  5.,  4.,  3.,  6., 13.,  7., 12., 14.,  8.,  9., 16.])"
      ]
     },
     "execution_count": 35,
     "metadata": {},
     "output_type": "execute_result"
    }
   ],
   "source": [
    "df8.n_city.unique()"
   ]
  },
  {
   "cell_type": "code",
   "execution_count": 36,
   "metadata": {
    "scrolled": true
   },
   "outputs": [
    {
     "data": {
      "text/html": [
       "<div>\n",
       "<style scoped>\n",
       "    .dataframe tbody tr th:only-of-type {\n",
       "        vertical-align: middle;\n",
       "    }\n",
       "\n",
       "    .dataframe tbody tr th {\n",
       "        vertical-align: top;\n",
       "    }\n",
       "\n",
       "    .dataframe thead th {\n",
       "        text-align: right;\n",
       "    }\n",
       "</style>\n",
       "<table border=\"1\" class=\"dataframe\">\n",
       "  <thead>\n",
       "    <tr style=\"text-align: right;\">\n",
       "      <th></th>\n",
       "      <th>village</th>\n",
       "      <th>soil</th>\n",
       "      <th>total_sqft</th>\n",
       "      <th>density</th>\n",
       "      <th>price</th>\n",
       "      <th>n_city</th>\n",
       "      <th>soil_in</th>\n",
       "      <th>price_per_sqft</th>\n",
       "    </tr>\n",
       "  </thead>\n",
       "  <tbody>\n",
       "    <tr>\n",
       "      <th>345</th>\n",
       "      <td>Alamgirpur-Faridpur</td>\n",
       "      <td>2 index</td>\n",
       "      <td>1552.0</td>\n",
       "      <td>2.0</td>\n",
       "      <td>75.97</td>\n",
       "      <td>13.0</td>\n",
       "      <td>2</td>\n",
       "      <td>489.497423</td>\n",
       "    </tr>\n",
       "    <tr>\n",
       "      <th>394</th>\n",
       "      <td>Alipur Morna</td>\n",
       "      <td>2 index</td>\n",
       "      <td>12000.0</td>\n",
       "      <td>10.0</td>\n",
       "      <td>525.00</td>\n",
       "      <td>12.0</td>\n",
       "      <td>2</td>\n",
       "      <td>437.500000</td>\n",
       "    </tr>\n",
       "    <tr>\n",
       "      <th>873</th>\n",
       "      <td>Baghpur</td>\n",
       "      <td>3 index</td>\n",
       "      <td>3300.0</td>\n",
       "      <td>10.0</td>\n",
       "      <td>500.00</td>\n",
       "      <td>14.0</td>\n",
       "      <td>3</td>\n",
       "      <td>1515.151515</td>\n",
       "    </tr>\n",
       "    <tr>\n",
       "      <th>2397</th>\n",
       "      <td>Daulatpur Urf Mamipur</td>\n",
       "      <td>1 index</td>\n",
       "      <td>5425.0</td>\n",
       "      <td>10.0</td>\n",
       "      <td>275.00</td>\n",
       "      <td>13.0</td>\n",
       "      <td>1</td>\n",
       "      <td>506.912442</td>\n",
       "    </tr>\n",
       "    <tr>\n",
       "      <th>3720</th>\n",
       "      <td>Jalalpur</td>\n",
       "      <td>1 index</td>\n",
       "      <td>10000.0</td>\n",
       "      <td>10.0</td>\n",
       "      <td>550.00</td>\n",
       "      <td>16.0</td>\n",
       "      <td>1</td>\n",
       "      <td>550.000000</td>\n",
       "    </tr>\n",
       "    <tr>\n",
       "      <th>4126</th>\n",
       "      <td>Jharaka</td>\n",
       "      <td>2 index</td>\n",
       "      <td>4000.0</td>\n",
       "      <td>10.0</td>\n",
       "      <td>160.00</td>\n",
       "      <td>12.0</td>\n",
       "      <td>2</td>\n",
       "      <td>400.000000</td>\n",
       "    </tr>\n",
       "  </tbody>\n",
       "</table>\n",
       "</div>"
      ],
      "text/plain": [
       "                    village     soil  total_sqft  density   price  n_city  \\\n",
       "345     Alamgirpur-Faridpur  2 index      1552.0      2.0   75.97    13.0   \n",
       "394            Alipur Morna  2 index     12000.0     10.0  525.00    12.0   \n",
       "873                 Baghpur  3 index      3300.0     10.0  500.00    14.0   \n",
       "2397  Daulatpur Urf Mamipur  1 index      5425.0     10.0  275.00    13.0   \n",
       "3720               Jalalpur  1 index     10000.0     10.0  550.00    16.0   \n",
       "4126                Jharaka  2 index      4000.0     10.0  160.00    12.0   \n",
       "\n",
       "      soil_in  price_per_sqft  \n",
       "345         2      489.497423  \n",
       "394         2      437.500000  \n",
       "873         3     1515.151515  \n",
       "2397        1      506.912442  \n",
       "3720        1      550.000000  \n",
       "4126        2      400.000000  "
      ]
     },
     "execution_count": 36,
     "metadata": {},
     "output_type": "execute_result"
    }
   ],
   "source": [
    "df8[df8.n_city>10]"
   ]
  },
  {
   "cell_type": "markdown",
   "metadata": {},
   "source": [
    "nearest city=n_city*10 : so it quite impossible if not having nearest city in 100 km of area so I will remove all n_city data point  having nearest city >100km"
   ]
  },
  {
   "cell_type": "code",
   "execution_count": 37,
   "metadata": {
    "scrolled": true
   },
   "outputs": [
    {
     "data": {
      "text/plain": [
       "Text(0, 0.5, 'Count')"
      ]
     },
     "execution_count": 37,
     "metadata": {},
     "output_type": "execute_result"
    },
    {
     "data": {
      "image/png": "[encoded data removed]",
      "text/plain": [
       "<Figure size 1440x720 with 1 Axes>"
      ]
     },
     "metadata": {
      "needs_background": "light"
     },
     "output_type": "display_data"
    }
   ],
   "source": [
    "plt.hist(df8.n_city*10,rwidth=0.8)\n",
    "plt.xlabel(\"Nearest city to village in Km\")\n",
    "plt.ylabel(\"Count\")"
   ]
  },
  {
   "cell_type": "code",
   "execution_count": 38,
   "metadata": {},
   "outputs": [
    {
     "data": {
      "text/html": [
       "<div>\n",
       "<style scoped>\n",
       "    .dataframe tbody tr th:only-of-type {\n",
       "        vertical-align: middle;\n",
       "    }\n",
       "\n",
       "    .dataframe tbody tr th {\n",
       "        vertical-align: top;\n",
       "    }\n",
       "\n",
       "    .dataframe thead th {\n",
       "        text-align: right;\n",
       "    }\n",
       "</style>\n",
       "<table border=\"1\" class=\"dataframe\">\n",
       "  <thead>\n",
       "    <tr style=\"text-align: right;\">\n",
       "      <th></th>\n",
       "      <th>village</th>\n",
       "      <th>soil</th>\n",
       "      <th>total_sqft</th>\n",
       "      <th>density</th>\n",
       "      <th>price</th>\n",
       "      <th>n_city</th>\n",
       "      <th>soil_in</th>\n",
       "      <th>price_per_sqft</th>\n",
       "    </tr>\n",
       "  </thead>\n",
       "  <tbody>\n",
       "    <tr>\n",
       "      <th>345</th>\n",
       "      <td>Alamgirpur-Faridpur</td>\n",
       "      <td>2 index</td>\n",
       "      <td>1552.0</td>\n",
       "      <td>2.0</td>\n",
       "      <td>75.970</td>\n",
       "      <td>13.0</td>\n",
       "      <td>2</td>\n",
       "      <td>489.497423</td>\n",
       "    </tr>\n",
       "    <tr>\n",
       "      <th>394</th>\n",
       "      <td>Alipur Morna</td>\n",
       "      <td>2 index</td>\n",
       "      <td>12000.0</td>\n",
       "      <td>10.0</td>\n",
       "      <td>525.000</td>\n",
       "      <td>12.0</td>\n",
       "      <td>2</td>\n",
       "      <td>437.500000</td>\n",
       "    </tr>\n",
       "    <tr>\n",
       "      <th>595</th>\n",
       "      <td>Asilpur</td>\n",
       "      <td>2 index</td>\n",
       "      <td>1296.0</td>\n",
       "      <td>2.0</td>\n",
       "      <td>44.000</td>\n",
       "      <td>6.0</td>\n",
       "      <td>2</td>\n",
       "      <td>339.506173</td>\n",
       "    </tr>\n",
       "    <tr>\n",
       "      <th>873</th>\n",
       "      <td>Baghpur</td>\n",
       "      <td>3 index</td>\n",
       "      <td>3300.0</td>\n",
       "      <td>10.0</td>\n",
       "      <td>500.000</td>\n",
       "      <td>14.0</td>\n",
       "      <td>3</td>\n",
       "      <td>1515.151515</td>\n",
       "    </tr>\n",
       "    <tr>\n",
       "      <th>939</th>\n",
       "      <td>Bahadurpur</td>\n",
       "      <td>2 index</td>\n",
       "      <td>1205.0</td>\n",
       "      <td>2.0</td>\n",
       "      <td>57.500</td>\n",
       "      <td>8.0</td>\n",
       "      <td>2</td>\n",
       "      <td>477.178423</td>\n",
       "    </tr>\n",
       "    <tr>\n",
       "      <th>1029</th>\n",
       "      <td>Bahsuma (NP)</td>\n",
       "      <td>3 index</td>\n",
       "      <td>2400.0</td>\n",
       "      <td>6.0</td>\n",
       "      <td>270.000</td>\n",
       "      <td>6.0</td>\n",
       "      <td>3</td>\n",
       "      <td>1125.000000</td>\n",
       "    </tr>\n",
       "    <tr>\n",
       "      <th>1458</th>\n",
       "      <td>Bhagwanpur Bangar</td>\n",
       "      <td>5 index</td>\n",
       "      <td>4000.0</td>\n",
       "      <td>8.0</td>\n",
       "      <td>150.000</td>\n",
       "      <td>8.0</td>\n",
       "      <td>5</td>\n",
       "      <td>375.000000</td>\n",
       "    </tr>\n",
       "    <tr>\n",
       "      <th>1725</th>\n",
       "      <td>Bhojpur</td>\n",
       "      <td>2 index</td>\n",
       "      <td>432.0</td>\n",
       "      <td>1.0</td>\n",
       "      <td>19.500</td>\n",
       "      <td>5.0</td>\n",
       "      <td>2</td>\n",
       "      <td>451.388889</td>\n",
       "    </tr>\n",
       "    <tr>\n",
       "      <th>2203</th>\n",
       "      <td>Dabathuwa</td>\n",
       "      <td>2 index</td>\n",
       "      <td>1181.0</td>\n",
       "      <td>3.0</td>\n",
       "      <td>47.570</td>\n",
       "      <td>6.0</td>\n",
       "      <td>2</td>\n",
       "      <td>402.794242</td>\n",
       "    </tr>\n",
       "    <tr>\n",
       "      <th>2218</th>\n",
       "      <td>Dabathuwa Garhi</td>\n",
       "      <td>2 index</td>\n",
       "      <td>1070.0</td>\n",
       "      <td>2.0</td>\n",
       "      <td>42.000</td>\n",
       "      <td>6.0</td>\n",
       "      <td>2</td>\n",
       "      <td>392.523364</td>\n",
       "    </tr>\n",
       "    <tr>\n",
       "      <th>2288</th>\n",
       "      <td>Dahar</td>\n",
       "      <td>3 index</td>\n",
       "      <td>1616.0</td>\n",
       "      <td>2.0</td>\n",
       "      <td>34.555</td>\n",
       "      <td>6.0</td>\n",
       "      <td>3</td>\n",
       "      <td>213.830446</td>\n",
       "    </tr>\n",
       "    <tr>\n",
       "      <th>2397</th>\n",
       "      <td>Daulatpur Urf Mamipur</td>\n",
       "      <td>1 index</td>\n",
       "      <td>5425.0</td>\n",
       "      <td>10.0</td>\n",
       "      <td>275.000</td>\n",
       "      <td>13.0</td>\n",
       "      <td>1</td>\n",
       "      <td>506.912442</td>\n",
       "    </tr>\n",
       "    <tr>\n",
       "      <th>2636</th>\n",
       "      <td>Dhilaura</td>\n",
       "      <td>2 index</td>\n",
       "      <td>1295.0</td>\n",
       "      <td>1.0</td>\n",
       "      <td>52.500</td>\n",
       "      <td>6.0</td>\n",
       "      <td>2</td>\n",
       "      <td>405.405405</td>\n",
       "    </tr>\n",
       "    <tr>\n",
       "      <th>2683</th>\n",
       "      <td>Dilwara</td>\n",
       "      <td>4 index</td>\n",
       "      <td>3450.0</td>\n",
       "      <td>7.0</td>\n",
       "      <td>225.000</td>\n",
       "      <td>7.0</td>\n",
       "      <td>4</td>\n",
       "      <td>652.173913</td>\n",
       "    </tr>\n",
       "    <tr>\n",
       "      <th>2769</th>\n",
       "      <td>Dungar</td>\n",
       "      <td>2 index</td>\n",
       "      <td>1152.0</td>\n",
       "      <td>2.0</td>\n",
       "      <td>48.000</td>\n",
       "      <td>5.0</td>\n",
       "      <td>2</td>\n",
       "      <td>416.666667</td>\n",
       "    </tr>\n",
       "    <tr>\n",
       "      <th>2857</th>\n",
       "      <td>Fajilpur</td>\n",
       "      <td>4 index</td>\n",
       "      <td>4000.0</td>\n",
       "      <td>8.0</td>\n",
       "      <td>160.000</td>\n",
       "      <td>8.0</td>\n",
       "      <td>4</td>\n",
       "      <td>400.000000</td>\n",
       "    </tr>\n",
       "    <tr>\n",
       "      <th>2959</th>\n",
       "      <td>Ftahpur Hansapur</td>\n",
       "      <td>3 index</td>\n",
       "      <td>5000.0</td>\n",
       "      <td>9.0</td>\n",
       "      <td>360.000</td>\n",
       "      <td>9.0</td>\n",
       "      <td>3</td>\n",
       "      <td>720.000000</td>\n",
       "    </tr>\n",
       "    <tr>\n",
       "      <th>3225</th>\n",
       "      <td>Govindpur Urf Ghasauli</td>\n",
       "      <td>5 index</td>\n",
       "      <td>2500.0</td>\n",
       "      <td>8.0</td>\n",
       "      <td>95.000</td>\n",
       "      <td>8.0</td>\n",
       "      <td>5</td>\n",
       "      <td>380.000000</td>\n",
       "    </tr>\n",
       "    <tr>\n",
       "      <th>3326</th>\n",
       "      <td>Haripur</td>\n",
       "      <td>3 index</td>\n",
       "      <td>3600.0</td>\n",
       "      <td>8.0</td>\n",
       "      <td>165.000</td>\n",
       "      <td>8.0</td>\n",
       "      <td>3</td>\n",
       "      <td>458.333333</td>\n",
       "    </tr>\n",
       "    <tr>\n",
       "      <th>3720</th>\n",
       "      <td>Jalalpur</td>\n",
       "      <td>1 index</td>\n",
       "      <td>10000.0</td>\n",
       "      <td>10.0</td>\n",
       "      <td>550.000</td>\n",
       "      <td>16.0</td>\n",
       "      <td>1</td>\n",
       "      <td>550.000000</td>\n",
       "    </tr>\n",
       "    <tr>\n",
       "      <th>3892</th>\n",
       "      <td>Jangethi</td>\n",
       "      <td>4 index</td>\n",
       "      <td>3600.0</td>\n",
       "      <td>9.0</td>\n",
       "      <td>125.000</td>\n",
       "      <td>9.0</td>\n",
       "      <td>4</td>\n",
       "      <td>347.222222</td>\n",
       "    </tr>\n",
       "    <tr>\n",
       "      <th>4012</th>\n",
       "      <td>Jasori</td>\n",
       "      <td>2 index</td>\n",
       "      <td>1350.0</td>\n",
       "      <td>2.0</td>\n",
       "      <td>41.000</td>\n",
       "      <td>5.0</td>\n",
       "      <td>2</td>\n",
       "      <td>303.703704</td>\n",
       "    </tr>\n",
       "    <tr>\n",
       "      <th>4126</th>\n",
       "      <td>Jharaka</td>\n",
       "      <td>2 index</td>\n",
       "      <td>4000.0</td>\n",
       "      <td>10.0</td>\n",
       "      <td>160.000</td>\n",
       "      <td>12.0</td>\n",
       "      <td>2</td>\n",
       "      <td>400.000000</td>\n",
       "    </tr>\n",
       "    <tr>\n",
       "      <th>4360</th>\n",
       "      <td>Kaithwari</td>\n",
       "      <td>3 index</td>\n",
       "      <td>682.0</td>\n",
       "      <td>2.0</td>\n",
       "      <td>43.000</td>\n",
       "      <td>6.0</td>\n",
       "      <td>3</td>\n",
       "      <td>630.498534</td>\n",
       "    </tr>\n",
       "    <tr>\n",
       "      <th>4682</th>\n",
       "      <td>Kaul</td>\n",
       "      <td>4 index</td>\n",
       "      <td>2600.0</td>\n",
       "      <td>8.0</td>\n",
       "      <td>180.000</td>\n",
       "      <td>8.0</td>\n",
       "      <td>4</td>\n",
       "      <td>692.307692</td>\n",
       "    </tr>\n",
       "    <tr>\n",
       "      <th>4850</th>\n",
       "      <td>Khanpur</td>\n",
       "      <td>3 index</td>\n",
       "      <td>1390.0</td>\n",
       "      <td>2.0</td>\n",
       "      <td>85.000</td>\n",
       "      <td>7.0</td>\n",
       "      <td>3</td>\n",
       "      <td>611.510791</td>\n",
       "    </tr>\n",
       "    <tr>\n",
       "      <th>4851</th>\n",
       "      <td>Khanpur</td>\n",
       "      <td>3 index</td>\n",
       "      <td>1508.0</td>\n",
       "      <td>3.0</td>\n",
       "      <td>150.000</td>\n",
       "      <td>9.0</td>\n",
       "      <td>3</td>\n",
       "      <td>994.694960</td>\n",
       "    </tr>\n",
       "    <tr>\n",
       "      <th>4886</th>\n",
       "      <td>Khanpur Garhi</td>\n",
       "      <td>1 index</td>\n",
       "      <td>750.0</td>\n",
       "      <td>2.0</td>\n",
       "      <td>75.000</td>\n",
       "      <td>5.0</td>\n",
       "      <td>1</td>\n",
       "      <td>1000.000000</td>\n",
       "    </tr>\n",
       "    <tr>\n",
       "      <th>4926</th>\n",
       "      <td>Kharkhali</td>\n",
       "      <td>3 index</td>\n",
       "      <td>4500.0</td>\n",
       "      <td>9.0</td>\n",
       "      <td>500.000</td>\n",
       "      <td>9.0</td>\n",
       "      <td>3</td>\n",
       "      <td>1111.111111</td>\n",
       "    </tr>\n",
       "    <tr>\n",
       "      <th>4939</th>\n",
       "      <td>Kharkhali</td>\n",
       "      <td>2 index</td>\n",
       "      <td>1420.0</td>\n",
       "      <td>2.0</td>\n",
       "      <td>49.270</td>\n",
       "      <td>5.0</td>\n",
       "      <td>2</td>\n",
       "      <td>346.971831</td>\n",
       "    </tr>\n",
       "    <tr>\n",
       "      <th>5018</th>\n",
       "      <td>Khata</td>\n",
       "      <td>4 index</td>\n",
       "      <td>7000.0</td>\n",
       "      <td>8.0</td>\n",
       "      <td>450.000</td>\n",
       "      <td>8.0</td>\n",
       "      <td>4</td>\n",
       "      <td>642.857143</td>\n",
       "    </tr>\n",
       "    <tr>\n",
       "      <th>5432</th>\n",
       "      <td>Kiratpur</td>\n",
       "      <td>3 index</td>\n",
       "      <td>1140.0</td>\n",
       "      <td>3.0</td>\n",
       "      <td>117.000</td>\n",
       "      <td>6.0</td>\n",
       "      <td>3</td>\n",
       "      <td>1026.315789</td>\n",
       "    </tr>\n",
       "    <tr>\n",
       "      <th>5704</th>\n",
       "      <td>Kuri Kamalpur</td>\n",
       "      <td>3 index</td>\n",
       "      <td>5000.0</td>\n",
       "      <td>9.0</td>\n",
       "      <td>210.000</td>\n",
       "      <td>9.0</td>\n",
       "      <td>3</td>\n",
       "      <td>420.000000</td>\n",
       "    </tr>\n",
       "    <tr>\n",
       "      <th>5923</th>\n",
       "      <td>Lawri Hiranpur</td>\n",
       "      <td>4 index</td>\n",
       "      <td>2780.0</td>\n",
       "      <td>3.0</td>\n",
       "      <td>90.000</td>\n",
       "      <td>9.0</td>\n",
       "      <td>4</td>\n",
       "      <td>323.741007</td>\n",
       "    </tr>\n",
       "    <tr>\n",
       "      <th>5987</th>\n",
       "      <td>Machhri</td>\n",
       "      <td>3 index</td>\n",
       "      <td>4600.0</td>\n",
       "      <td>9.0</td>\n",
       "      <td>200.000</td>\n",
       "      <td>9.0</td>\n",
       "      <td>3</td>\n",
       "      <td>434.782609</td>\n",
       "    </tr>\n",
       "    <tr>\n",
       "      <th>5993</th>\n",
       "      <td>Machhri</td>\n",
       "      <td>1 index</td>\n",
       "      <td>790.5</td>\n",
       "      <td>2.0</td>\n",
       "      <td>47.390</td>\n",
       "      <td>5.0</td>\n",
       "      <td>1</td>\n",
       "      <td>599.493991</td>\n",
       "    </tr>\n",
       "    <tr>\n",
       "      <th>6655</th>\n",
       "      <td>Meerut (M Corp.)</td>\n",
       "      <td>2 index</td>\n",
       "      <td>1150.0</td>\n",
       "      <td>2.0</td>\n",
       "      <td>58.000</td>\n",
       "      <td>5.0</td>\n",
       "      <td>2</td>\n",
       "      <td>504.347826</td>\n",
       "    </tr>\n",
       "    <tr>\n",
       "      <th>7174</th>\n",
       "      <td>Murad Gaon Urf Kuwan Khera</td>\n",
       "      <td>2 index</td>\n",
       "      <td>1330.0</td>\n",
       "      <td>2.0</td>\n",
       "      <td>89.000</td>\n",
       "      <td>6.0</td>\n",
       "      <td>2</td>\n",
       "      <td>669.172932</td>\n",
       "    </tr>\n",
       "    <tr>\n",
       "      <th>7278</th>\n",
       "      <td>Nagla Azdi</td>\n",
       "      <td>3 index</td>\n",
       "      <td>1806.0</td>\n",
       "      <td>6.0</td>\n",
       "      <td>116.000</td>\n",
       "      <td>6.0</td>\n",
       "      <td>3</td>\n",
       "      <td>642.303433</td>\n",
       "    </tr>\n",
       "    <tr>\n",
       "      <th>7376</th>\n",
       "      <td>Nagla Kumbha</td>\n",
       "      <td>1 index</td>\n",
       "      <td>500.0</td>\n",
       "      <td>1.0</td>\n",
       "      <td>23.000</td>\n",
       "      <td>7.0</td>\n",
       "      <td>1</td>\n",
       "      <td>460.000000</td>\n",
       "    </tr>\n",
       "    <tr>\n",
       "      <th>7563</th>\n",
       "      <td>Nagli Khadar</td>\n",
       "      <td>5 index</td>\n",
       "      <td>11338.0</td>\n",
       "      <td>9.0</td>\n",
       "      <td>1000.000</td>\n",
       "      <td>9.0</td>\n",
       "      <td>5</td>\n",
       "      <td>881.989769</td>\n",
       "    </tr>\n",
       "    <tr>\n",
       "      <th>7638</th>\n",
       "      <td>Nagori</td>\n",
       "      <td>4 index</td>\n",
       "      <td>3000.0</td>\n",
       "      <td>8.0</td>\n",
       "      <td>150.000</td>\n",
       "      <td>8.0</td>\n",
       "      <td>4</td>\n",
       "      <td>500.000000</td>\n",
       "    </tr>\n",
       "    <tr>\n",
       "      <th>7724</th>\n",
       "      <td>Nangla Sani</td>\n",
       "      <td>2 index</td>\n",
       "      <td>980.0</td>\n",
       "      <td>2.0</td>\n",
       "      <td>34.000</td>\n",
       "      <td>5.0</td>\n",
       "      <td>2</td>\n",
       "      <td>346.938776</td>\n",
       "    </tr>\n",
       "    <tr>\n",
       "      <th>7740</th>\n",
       "      <td>Nanu Fatahpur</td>\n",
       "      <td>2 index</td>\n",
       "      <td>1100.0</td>\n",
       "      <td>2.0</td>\n",
       "      <td>65.000</td>\n",
       "      <td>6.0</td>\n",
       "      <td>2</td>\n",
       "      <td>590.909091</td>\n",
       "    </tr>\n",
       "    <tr>\n",
       "      <th>7803</th>\n",
       "      <td>Nasarpur</td>\n",
       "      <td>3 index</td>\n",
       "      <td>3600.0</td>\n",
       "      <td>9.0</td>\n",
       "      <td>240.000</td>\n",
       "      <td>9.0</td>\n",
       "      <td>3</td>\n",
       "      <td>666.666667</td>\n",
       "    </tr>\n",
       "    <tr>\n",
       "      <th>7993</th>\n",
       "      <td>Pabla</td>\n",
       "      <td>2 index</td>\n",
       "      <td>1234.0</td>\n",
       "      <td>2.0</td>\n",
       "      <td>55.000</td>\n",
       "      <td>5.0</td>\n",
       "      <td>2</td>\n",
       "      <td>445.705024</td>\n",
       "    </tr>\n",
       "    <tr>\n",
       "      <th>8049</th>\n",
       "      <td>Pachgaon Patti Sanwal</td>\n",
       "      <td>4 index</td>\n",
       "      <td>4000.0</td>\n",
       "      <td>7.0</td>\n",
       "      <td>110.000</td>\n",
       "      <td>7.0</td>\n",
       "      <td>4</td>\n",
       "      <td>275.000000</td>\n",
       "    </tr>\n",
       "    <tr>\n",
       "      <th>8193</th>\n",
       "      <td>Palra</td>\n",
       "      <td>2 index</td>\n",
       "      <td>1200.0</td>\n",
       "      <td>3.0</td>\n",
       "      <td>82.000</td>\n",
       "      <td>8.0</td>\n",
       "      <td>2</td>\n",
       "      <td>683.333333</td>\n",
       "    </tr>\n",
       "    <tr>\n",
       "      <th>8241</th>\n",
       "      <td>Panchli Khurd</td>\n",
       "      <td>5 index</td>\n",
       "      <td>3000.0</td>\n",
       "      <td>8.0</td>\n",
       "      <td>90.000</td>\n",
       "      <td>8.0</td>\n",
       "      <td>5</td>\n",
       "      <td>300.000000</td>\n",
       "    </tr>\n",
       "    <tr>\n",
       "      <th>8261</th>\n",
       "      <td>Panwari</td>\n",
       "      <td>4 index</td>\n",
       "      <td>4800.0</td>\n",
       "      <td>8.0</td>\n",
       "      <td>225.000</td>\n",
       "      <td>8.0</td>\n",
       "      <td>4</td>\n",
       "      <td>468.750000</td>\n",
       "    </tr>\n",
       "    <tr>\n",
       "      <th>8277</th>\n",
       "      <td>Parichhatgarh</td>\n",
       "      <td>5 index</td>\n",
       "      <td>3800.0</td>\n",
       "      <td>8.0</td>\n",
       "      <td>200.000</td>\n",
       "      <td>8.0</td>\n",
       "      <td>5</td>\n",
       "      <td>526.315789</td>\n",
       "    </tr>\n",
       "    <tr>\n",
       "      <th>9338</th>\n",
       "      <td>Sadullapur</td>\n",
       "      <td>3 index</td>\n",
       "      <td>1200.0</td>\n",
       "      <td>2.0</td>\n",
       "      <td>69.000</td>\n",
       "      <td>6.0</td>\n",
       "      <td>3</td>\n",
       "      <td>575.000000</td>\n",
       "    </tr>\n",
       "    <tr>\n",
       "      <th>9397</th>\n",
       "      <td>Saidipur Seth</td>\n",
       "      <td>3 index</td>\n",
       "      <td>1600.0</td>\n",
       "      <td>3.0</td>\n",
       "      <td>102.000</td>\n",
       "      <td>6.0</td>\n",
       "      <td>3</td>\n",
       "      <td>637.500000</td>\n",
       "    </tr>\n",
       "    <tr>\n",
       "      <th>9577</th>\n",
       "      <td>Salempur</td>\n",
       "      <td>3 index</td>\n",
       "      <td>1390.0</td>\n",
       "      <td>3.0</td>\n",
       "      <td>90.000</td>\n",
       "      <td>6.0</td>\n",
       "      <td>3</td>\n",
       "      <td>647.482014</td>\n",
       "    </tr>\n",
       "    <tr>\n",
       "      <th>9857</th>\n",
       "      <td>Shafiabad Loti</td>\n",
       "      <td>4 index</td>\n",
       "      <td>2400.0</td>\n",
       "      <td>8.0</td>\n",
       "      <td>250.000</td>\n",
       "      <td>8.0</td>\n",
       "      <td>4</td>\n",
       "      <td>1041.666667</td>\n",
       "    </tr>\n",
       "    <tr>\n",
       "      <th>9983</th>\n",
       "      <td>Shahpur Pirpur</td>\n",
       "      <td>3 index</td>\n",
       "      <td>3125.0</td>\n",
       "      <td>9.0</td>\n",
       "      <td>350.000</td>\n",
       "      <td>9.0</td>\n",
       "      <td>3</td>\n",
       "      <td>1120.000000</td>\n",
       "    </tr>\n",
       "    <tr>\n",
       "      <th>10028</th>\n",
       "      <td>Shahpur Zadid</td>\n",
       "      <td>3 index</td>\n",
       "      <td>1722.0</td>\n",
       "      <td>2.0</td>\n",
       "      <td>69.000</td>\n",
       "      <td>8.0</td>\n",
       "      <td>3</td>\n",
       "      <td>400.696864</td>\n",
       "    </tr>\n",
       "    <tr>\n",
       "      <th>10343</th>\n",
       "      <td>Sisola Buzurg</td>\n",
       "      <td>2 index</td>\n",
       "      <td>1180.0</td>\n",
       "      <td>2.0</td>\n",
       "      <td>50.000</td>\n",
       "      <td>6.0</td>\n",
       "      <td>2</td>\n",
       "      <td>423.728814</td>\n",
       "    </tr>\n",
       "    <tr>\n",
       "      <th>10657</th>\n",
       "      <td>Timakia</td>\n",
       "      <td>2 index</td>\n",
       "      <td>1265.0</td>\n",
       "      <td>3.0</td>\n",
       "      <td>110.000</td>\n",
       "      <td>6.0</td>\n",
       "      <td>2</td>\n",
       "      <td>869.565217</td>\n",
       "    </tr>\n",
       "    <tr>\n",
       "      <th>11314</th>\n",
       "      <td>other</td>\n",
       "      <td>3 index</td>\n",
       "      <td>1000.0</td>\n",
       "      <td>1.0</td>\n",
       "      <td>65.000</td>\n",
       "      <td>6.0</td>\n",
       "      <td>3</td>\n",
       "      <td>650.000000</td>\n",
       "    </tr>\n",
       "  </tbody>\n",
       "</table>\n",
       "</div>"
      ],
      "text/plain": [
       "                          village     soil  total_sqft  density     price  \\\n",
       "345           Alamgirpur-Faridpur  2 index      1552.0      2.0    75.970   \n",
       "394                  Alipur Morna  2 index     12000.0     10.0   525.000   \n",
       "595                       Asilpur  2 index      1296.0      2.0    44.000   \n",
       "873                       Baghpur  3 index      3300.0     10.0   500.000   \n",
       "939                    Bahadurpur  2 index      1205.0      2.0    57.500   \n",
       "1029                 Bahsuma (NP)  3 index      2400.0      6.0   270.000   \n",
       "1458            Bhagwanpur Bangar  5 index      4000.0      8.0   150.000   \n",
       "1725                      Bhojpur  2 index       432.0      1.0    19.500   \n",
       "2203                    Dabathuwa  2 index      1181.0      3.0    47.570   \n",
       "2218              Dabathuwa Garhi  2 index      1070.0      2.0    42.000   \n",
       "2288                        Dahar  3 index      1616.0      2.0    34.555   \n",
       "2397        Daulatpur Urf Mamipur  1 index      5425.0     10.0   275.000   \n",
       "2636                     Dhilaura  2 index      1295.0      1.0    52.500   \n",
       "2683                      Dilwara  4 index      3450.0      7.0   225.000   \n",
       "2769                       Dungar  2 index      1152.0      2.0    48.000   \n",
       "2857                     Fajilpur  4 index      4000.0      8.0   160.000   \n",
       "2959             Ftahpur Hansapur  3 index      5000.0      9.0   360.000   \n",
       "3225       Govindpur Urf Ghasauli  5 index      2500.0      8.0    95.000   \n",
       "3326                      Haripur  3 index      3600.0      8.0   165.000   \n",
       "3720                     Jalalpur  1 index     10000.0     10.0   550.000   \n",
       "3892                     Jangethi  4 index      3600.0      9.0   125.000   \n",
       "4012                       Jasori  2 index      1350.0      2.0    41.000   \n",
       "4126                      Jharaka  2 index      4000.0     10.0   160.000   \n",
       "4360                    Kaithwari  3 index       682.0      2.0    43.000   \n",
       "4682                         Kaul  4 index      2600.0      8.0   180.000   \n",
       "4850                      Khanpur  3 index      1390.0      2.0    85.000   \n",
       "4851                      Khanpur  3 index      1508.0      3.0   150.000   \n",
       "4886                Khanpur Garhi  1 index       750.0      2.0    75.000   \n",
       "4926                    Kharkhali  3 index      4500.0      9.0   500.000   \n",
       "4939                    Kharkhali  2 index      1420.0      2.0    49.270   \n",
       "5018                        Khata  4 index      7000.0      8.0   450.000   \n",
       "5432                     Kiratpur  3 index      1140.0      3.0   117.000   \n",
       "5704                Kuri Kamalpur  3 index      5000.0      9.0   210.000   \n",
       "5923               Lawri Hiranpur  4 index      2780.0      3.0    90.000   \n",
       "5987                      Machhri  3 index      4600.0      9.0   200.000   \n",
       "5993                      Machhri  1 index       790.5      2.0    47.390   \n",
       "6655             Meerut (M Corp.)  2 index      1150.0      2.0    58.000   \n",
       "7174   Murad Gaon Urf Kuwan Khera  2 index      1330.0      2.0    89.000   \n",
       "7278                   Nagla Azdi  3 index      1806.0      6.0   116.000   \n",
       "7376                 Nagla Kumbha  1 index       500.0      1.0    23.000   \n",
       "7563                 Nagli Khadar  5 index     11338.0      9.0  1000.000   \n",
       "7638                       Nagori  4 index      3000.0      8.0   150.000   \n",
       "7724                  Nangla Sani  2 index       980.0      2.0    34.000   \n",
       "7740                Nanu Fatahpur  2 index      1100.0      2.0    65.000   \n",
       "7803                     Nasarpur  3 index      3600.0      9.0   240.000   \n",
       "7993                        Pabla  2 index      1234.0      2.0    55.000   \n",
       "8049        Pachgaon Patti Sanwal  4 index      4000.0      7.0   110.000   \n",
       "8193                        Palra  2 index      1200.0      3.0    82.000   \n",
       "8241                Panchli Khurd  5 index      3000.0      8.0    90.000   \n",
       "8261                      Panwari  4 index      4800.0      8.0   225.000   \n",
       "8277                Parichhatgarh  5 index      3800.0      8.0   200.000   \n",
       "9338                   Sadullapur  3 index      1200.0      2.0    69.000   \n",
       "9397                Saidipur Seth  3 index      1600.0      3.0   102.000   \n",
       "9577                     Salempur  3 index      1390.0      3.0    90.000   \n",
       "9857               Shafiabad Loti  4 index      2400.0      8.0   250.000   \n",
       "9983               Shahpur Pirpur  3 index      3125.0      9.0   350.000   \n",
       "10028               Shahpur Zadid  3 index      1722.0      2.0    69.000   \n",
       "10343               Sisola Buzurg  2 index      1180.0      2.0    50.000   \n",
       "10657                     Timakia  2 index      1265.0      3.0   110.000   \n",
       "11314                       other  3 index      1000.0      1.0    65.000   \n",
       "\n",
       "       n_city  soil_in  price_per_sqft  \n",
       "345      13.0        2      489.497423  \n",
       "394      12.0        2      437.500000  \n",
       "595       6.0        2      339.506173  \n",
       "873      14.0        3     1515.151515  \n",
       "939       8.0        2      477.178423  \n",
       "1029      6.0        3     1125.000000  \n",
       "1458      8.0        5      375.000000  \n",
       "1725      5.0        2      451.388889  \n",
       "2203      6.0        2      402.794242  \n",
       "2218      6.0        2      392.523364  \n",
       "2288      6.0        3      213.830446  \n",
       "2397     13.0        1      506.912442  \n",
       "2636      6.0        2      405.405405  \n",
       "2683      7.0        4      652.173913  \n",
       "2769      5.0        2      416.666667  \n",
       "2857      8.0        4      400.000000  \n",
       "2959      9.0        3      720.000000  \n",
       "3225      8.0        5      380.000000  \n",
       "3326      8.0        3      458.333333  \n",
       "3720     16.0        1      550.000000  \n",
       "3892      9.0        4      347.222222  \n",
       "4012      5.0        2      303.703704  \n",
       "4126     12.0        2      400.000000  \n",
       "4360      6.0        3      630.498534  \n",
       "4682      8.0        4      692.307692  \n",
       "4850      7.0        3      611.510791  \n",
       "4851      9.0        3      994.694960  \n",
       "4886      5.0        1     1000.000000  \n",
       "4926      9.0        3     1111.111111  \n",
       "4939      5.0        2      346.971831  \n",
       "5018      8.0        4      642.857143  \n",
       "5432      6.0        3     1026.315789  \n",
       "5704      9.0        3      420.000000  \n",
       "5923      9.0        4      323.741007  \n",
       "5987      9.0        3      434.782609  \n",
       "5993      5.0        1      599.493991  \n",
       "6655      5.0        2      504.347826  \n",
       "7174      6.0        2      669.172932  \n",
       "7278      6.0        3      642.303433  \n",
       "7376      7.0        1      460.000000  \n",
       "7563      9.0        5      881.989769  \n",
       "7638      8.0        4      500.000000  \n",
       "7724      5.0        2      346.938776  \n",
       "7740      6.0        2      590.909091  \n",
       "7803      9.0        3      666.666667  \n",
       "7993      5.0        2      445.705024  \n",
       "8049      7.0        4      275.000000  \n",
       "8193      8.0        2      683.333333  \n",
       "8241      8.0        5      300.000000  \n",
       "8261      8.0        4      468.750000  \n",
       "8277      8.0        5      526.315789  \n",
       "9338      6.0        3      575.000000  \n",
       "9397      6.0        3      637.500000  \n",
       "9577      6.0        3      647.482014  \n",
       "9857      8.0        4     1041.666667  \n",
       "9983      9.0        3     1120.000000  \n",
       "10028     8.0        3      400.696864  \n",
       "10343     6.0        2      423.728814  \n",
       "10657     6.0        2      869.565217  \n",
       "11314     6.0        3      650.000000  "
      ]
     },
     "execution_count": 38,
     "metadata": {},
     "output_type": "execute_result"
    }
   ],
   "source": [
    "  df8[df8.n_city>df8.soil_in+2]"
   ]
  },
  {
   "cell_type": "code",
   "execution_count": 39,
   "metadata": {},
   "outputs": [
    {
     "data": {
      "text/plain": [
       "9489"
      ]
     },
     "execution_count": 39,
     "metadata": {},
     "output_type": "execute_result"
    }
   ],
   "source": [
    "len(df8.n_city>10)"
   ]
  },
  {
   "cell_type": "code",
   "execution_count": 40,
   "metadata": {},
   "outputs": [
    {
     "data": {
      "text/plain": [
       "6"
      ]
     },
     "execution_count": 40,
     "metadata": {},
     "output_type": "execute_result"
    }
   ],
   "source": [
    "len(df8[df8.n_city>10])"
   ]
  },
  {
   "cell_type": "markdown",
   "metadata": {},
   "source": [
    "Outlier remover : I will remove all the village data whose distance from the city is more than 10"
   ]
  },
  {
   "cell_type": "code",
   "execution_count": 41,
   "metadata": {},
   "outputs": [],
   "source": [
    "df9=df8[df8.n_city<7]"
   ]
  },
  {
   "cell_type": "code",
   "execution_count": 42,
   "metadata": {},
   "outputs": [
    {
     "data": {
      "text/plain": [
       "(9426, 8)"
      ]
     },
     "execution_count": 42,
     "metadata": {},
     "output_type": "execute_result"
    }
   ],
   "source": [
    "df9.shape"
   ]
  },
  {
   "cell_type": "code",
   "execution_count": 43,
   "metadata": {},
   "outputs": [
    {
     "data": {
      "text/html": [
       "<div>\n",
       "<style scoped>\n",
       "    .dataframe tbody tr th:only-of-type {\n",
       "        vertical-align: middle;\n",
       "    }\n",
       "\n",
       "    .dataframe tbody tr th {\n",
       "        vertical-align: top;\n",
       "    }\n",
       "\n",
       "    .dataframe thead th {\n",
       "        text-align: right;\n",
       "    }\n",
       "</style>\n",
       "<table border=\"1\" class=\"dataframe\">\n",
       "  <thead>\n",
       "    <tr style=\"text-align: right;\">\n",
       "      <th></th>\n",
       "      <th>village</th>\n",
       "      <th>total_sqft</th>\n",
       "      <th>density</th>\n",
       "      <th>price</th>\n",
       "      <th>n_city</th>\n",
       "      <th>soil_in</th>\n",
       "    </tr>\n",
       "  </thead>\n",
       "  <tbody>\n",
       "    <tr>\n",
       "      <th>0</th>\n",
       "      <td>Achikalan</td>\n",
       "      <td>930.0</td>\n",
       "      <td>2.0</td>\n",
       "      <td>39.00</td>\n",
       "      <td>2.0</td>\n",
       "      <td>2</td>\n",
       "    </tr>\n",
       "    <tr>\n",
       "      <th>2</th>\n",
       "      <td>Achikalan</td>\n",
       "      <td>1089.0</td>\n",
       "      <td>2.0</td>\n",
       "      <td>43.55</td>\n",
       "      <td>2.0</td>\n",
       "      <td>2</td>\n",
       "    </tr>\n",
       "    <tr>\n",
       "      <th>3</th>\n",
       "      <td>Achikalan</td>\n",
       "      <td>989.0</td>\n",
       "      <td>2.0</td>\n",
       "      <td>60.00</td>\n",
       "      <td>2.0</td>\n",
       "      <td>2</td>\n",
       "    </tr>\n",
       "    <tr>\n",
       "      <th>4</th>\n",
       "      <td>Achikalan</td>\n",
       "      <td>1150.0</td>\n",
       "      <td>2.0</td>\n",
       "      <td>38.00</td>\n",
       "      <td>2.0</td>\n",
       "      <td>2</td>\n",
       "    </tr>\n",
       "  </tbody>\n",
       "</table>\n",
       "</div>"
      ],
      "text/plain": [
       "     village  total_sqft  density  price  n_city  soil_in\n",
       "0  Achikalan       930.0      2.0  39.00     2.0        2\n",
       "2  Achikalan      1089.0      2.0  43.55     2.0        2\n",
       "3  Achikalan       989.0      2.0  60.00     2.0        2\n",
       "4  Achikalan      1150.0      2.0  38.00     2.0        2"
      ]
     },
     "execution_count": 43,
     "metadata": {},
     "output_type": "execute_result"
    }
   ],
   "source": [
    "df10 = df9.drop(['soil','price_per_sqft'],axis='columns')\n",
    "df10.head(4)"
   ]
  },
  {
   "cell_type": "code",
   "execution_count": 44,
   "metadata": {},
   "outputs": [
    {
     "data": {
      "text/html": [
       "<div>\n",
       "<style scoped>\n",
       "    .dataframe tbody tr th:only-of-type {\n",
       "        vertical-align: middle;\n",
       "    }\n",
       "\n",
       "    .dataframe tbody tr th {\n",
       "        vertical-align: top;\n",
       "    }\n",
       "\n",
       "    .dataframe thead th {\n",
       "        text-align: right;\n",
       "    }\n",
       "</style>\n",
       "<table border=\"1\" class=\"dataframe\">\n",
       "  <thead>\n",
       "    <tr style=\"text-align: right;\">\n",
       "      <th></th>\n",
       "      <th>Achikalan</th>\n",
       "      <th>Afjalpur Urf Raninagla</th>\n",
       "      <th>Afzalpur Pawati</th>\n",
       "      <th>Agwanpur</th>\n",
       "      <th>Ahara</th>\n",
       "      <th>Ahmadnagar Badhla</th>\n",
       "      <th>Ahmadpur Urf Dandoopur</th>\n",
       "      <th>Ahmadpuri Urf Amanpuri</th>\n",
       "      <th>Aidalpur</th>\n",
       "      <th>Ajrara</th>\n",
       "      <th>...</th>\n",
       "      <th>Timakia</th>\n",
       "      <th>Ukasia</th>\n",
       "      <th>Ukhleena</th>\n",
       "      <th>Uldeypur</th>\n",
       "      <th>Uldhan</th>\n",
       "      <th>Uplehra</th>\n",
       "      <th>Veerkhera</th>\n",
       "      <th>Walidpur</th>\n",
       "      <th>Yusufabad</th>\n",
       "      <th>other</th>\n",
       "    </tr>\n",
       "  </thead>\n",
       "  <tbody>\n",
       "    <tr>\n",
       "      <th>0</th>\n",
       "      <td>1</td>\n",
       "      <td>0</td>\n",
       "      <td>0</td>\n",
       "      <td>0</td>\n",
       "      <td>0</td>\n",
       "      <td>0</td>\n",
       "      <td>0</td>\n",
       "      <td>0</td>\n",
       "      <td>0</td>\n",
       "      <td>0</td>\n",
       "      <td>...</td>\n",
       "      <td>0</td>\n",
       "      <td>0</td>\n",
       "      <td>0</td>\n",
       "      <td>0</td>\n",
       "      <td>0</td>\n",
       "      <td>0</td>\n",
       "      <td>0</td>\n",
       "      <td>0</td>\n",
       "      <td>0</td>\n",
       "      <td>0</td>\n",
       "    </tr>\n",
       "    <tr>\n",
       "      <th>2</th>\n",
       "      <td>1</td>\n",
       "      <td>0</td>\n",
       "      <td>0</td>\n",
       "      <td>0</td>\n",
       "      <td>0</td>\n",
       "      <td>0</td>\n",
       "      <td>0</td>\n",
       "      <td>0</td>\n",
       "      <td>0</td>\n",
       "      <td>0</td>\n",
       "      <td>...</td>\n",
       "      <td>0</td>\n",
       "      <td>0</td>\n",
       "      <td>0</td>\n",
       "      <td>0</td>\n",
       "      <td>0</td>\n",
       "      <td>0</td>\n",
       "      <td>0</td>\n",
       "      <td>0</td>\n",
       "      <td>0</td>\n",
       "      <td>0</td>\n",
       "    </tr>\n",
       "    <tr>\n",
       "      <th>3</th>\n",
       "      <td>1</td>\n",
       "      <td>0</td>\n",
       "      <td>0</td>\n",
       "      <td>0</td>\n",
       "      <td>0</td>\n",
       "      <td>0</td>\n",
       "      <td>0</td>\n",
       "      <td>0</td>\n",
       "      <td>0</td>\n",
       "      <td>0</td>\n",
       "      <td>...</td>\n",
       "      <td>0</td>\n",
       "      <td>0</td>\n",
       "      <td>0</td>\n",
       "      <td>0</td>\n",
       "      <td>0</td>\n",
       "      <td>0</td>\n",
       "      <td>0</td>\n",
       "      <td>0</td>\n",
       "      <td>0</td>\n",
       "      <td>0</td>\n",
       "    </tr>\n",
       "    <tr>\n",
       "      <th>4</th>\n",
       "      <td>1</td>\n",
       "      <td>0</td>\n",
       "      <td>0</td>\n",
       "      <td>0</td>\n",
       "      <td>0</td>\n",
       "      <td>0</td>\n",
       "      <td>0</td>\n",
       "      <td>0</td>\n",
       "      <td>0</td>\n",
       "      <td>0</td>\n",
       "      <td>...</td>\n",
       "      <td>0</td>\n",
       "      <td>0</td>\n",
       "      <td>0</td>\n",
       "      <td>0</td>\n",
       "      <td>0</td>\n",
       "      <td>0</td>\n",
       "      <td>0</td>\n",
       "      <td>0</td>\n",
       "      <td>0</td>\n",
       "      <td>0</td>\n",
       "    </tr>\n",
       "    <tr>\n",
       "      <th>5</th>\n",
       "      <td>1</td>\n",
       "      <td>0</td>\n",
       "      <td>0</td>\n",
       "      <td>0</td>\n",
       "      <td>0</td>\n",
       "      <td>0</td>\n",
       "      <td>0</td>\n",
       "      <td>0</td>\n",
       "      <td>0</td>\n",
       "      <td>0</td>\n",
       "      <td>...</td>\n",
       "      <td>0</td>\n",
       "      <td>0</td>\n",
       "      <td>0</td>\n",
       "      <td>0</td>\n",
       "      <td>0</td>\n",
       "      <td>0</td>\n",
       "      <td>0</td>\n",
       "      <td>0</td>\n",
       "      <td>0</td>\n",
       "      <td>0</td>\n",
       "    </tr>\n",
       "    <tr>\n",
       "      <th>...</th>\n",
       "      <td>...</td>\n",
       "      <td>...</td>\n",
       "      <td>...</td>\n",
       "      <td>...</td>\n",
       "      <td>...</td>\n",
       "      <td>...</td>\n",
       "      <td>...</td>\n",
       "      <td>...</td>\n",
       "      <td>...</td>\n",
       "      <td>...</td>\n",
       "      <td>...</td>\n",
       "      <td>...</td>\n",
       "      <td>...</td>\n",
       "      <td>...</td>\n",
       "      <td>...</td>\n",
       "      <td>...</td>\n",
       "      <td>...</td>\n",
       "      <td>...</td>\n",
       "      <td>...</td>\n",
       "      <td>...</td>\n",
       "      <td>...</td>\n",
       "    </tr>\n",
       "    <tr>\n",
       "      <th>11323</th>\n",
       "      <td>0</td>\n",
       "      <td>0</td>\n",
       "      <td>0</td>\n",
       "      <td>0</td>\n",
       "      <td>0</td>\n",
       "      <td>0</td>\n",
       "      <td>0</td>\n",
       "      <td>0</td>\n",
       "      <td>0</td>\n",
       "      <td>0</td>\n",
       "      <td>...</td>\n",
       "      <td>0</td>\n",
       "      <td>0</td>\n",
       "      <td>0</td>\n",
       "      <td>0</td>\n",
       "      <td>0</td>\n",
       "      <td>0</td>\n",
       "      <td>0</td>\n",
       "      <td>0</td>\n",
       "      <td>0</td>\n",
       "      <td>1</td>\n",
       "    </tr>\n",
       "    <tr>\n",
       "      <th>11326</th>\n",
       "      <td>0</td>\n",
       "      <td>0</td>\n",
       "      <td>0</td>\n",
       "      <td>0</td>\n",
       "      <td>0</td>\n",
       "      <td>0</td>\n",
       "      <td>0</td>\n",
       "      <td>0</td>\n",
       "      <td>0</td>\n",
       "      <td>0</td>\n",
       "      <td>...</td>\n",
       "      <td>0</td>\n",
       "      <td>0</td>\n",
       "      <td>0</td>\n",
       "      <td>0</td>\n",
       "      <td>0</td>\n",
       "      <td>0</td>\n",
       "      <td>0</td>\n",
       "      <td>0</td>\n",
       "      <td>0</td>\n",
       "      <td>1</td>\n",
       "    </tr>\n",
       "    <tr>\n",
       "      <th>11331</th>\n",
       "      <td>0</td>\n",
       "      <td>0</td>\n",
       "      <td>0</td>\n",
       "      <td>0</td>\n",
       "      <td>0</td>\n",
       "      <td>0</td>\n",
       "      <td>0</td>\n",
       "      <td>0</td>\n",
       "      <td>0</td>\n",
       "      <td>0</td>\n",
       "      <td>...</td>\n",
       "      <td>0</td>\n",
       "      <td>0</td>\n",
       "      <td>0</td>\n",
       "      <td>0</td>\n",
       "      <td>0</td>\n",
       "      <td>0</td>\n",
       "      <td>0</td>\n",
       "      <td>0</td>\n",
       "      <td>0</td>\n",
       "      <td>1</td>\n",
       "    </tr>\n",
       "    <tr>\n",
       "      <th>11335</th>\n",
       "      <td>0</td>\n",
       "      <td>0</td>\n",
       "      <td>0</td>\n",
       "      <td>0</td>\n",
       "      <td>0</td>\n",
       "      <td>0</td>\n",
       "      <td>0</td>\n",
       "      <td>0</td>\n",
       "      <td>0</td>\n",
       "      <td>0</td>\n",
       "      <td>...</td>\n",
       "      <td>0</td>\n",
       "      <td>0</td>\n",
       "      <td>0</td>\n",
       "      <td>0</td>\n",
       "      <td>0</td>\n",
       "      <td>0</td>\n",
       "      <td>0</td>\n",
       "      <td>0</td>\n",
       "      <td>0</td>\n",
       "      <td>1</td>\n",
       "    </tr>\n",
       "    <tr>\n",
       "      <th>11339</th>\n",
       "      <td>0</td>\n",
       "      <td>0</td>\n",
       "      <td>0</td>\n",
       "      <td>0</td>\n",
       "      <td>0</td>\n",
       "      <td>0</td>\n",
       "      <td>0</td>\n",
       "      <td>0</td>\n",
       "      <td>0</td>\n",
       "      <td>0</td>\n",
       "      <td>...</td>\n",
       "      <td>0</td>\n",
       "      <td>0</td>\n",
       "      <td>0</td>\n",
       "      <td>0</td>\n",
       "      <td>0</td>\n",
       "      <td>0</td>\n",
       "      <td>0</td>\n",
       "      <td>0</td>\n",
       "      <td>0</td>\n",
       "      <td>1</td>\n",
       "    </tr>\n",
       "  </tbody>\n",
       "</table>\n",
       "<p>9426 rows × 625 columns</p>\n",
       "</div>"
      ],
      "text/plain": [
       "       Achikalan  Afjalpur Urf Raninagla  Afzalpur Pawati  Agwanpur  Ahara  \\\n",
       "0              1                       0                0         0      0   \n",
       "2              1                       0                0         0      0   \n",
       "3              1                       0                0         0      0   \n",
       "4              1                       0                0         0      0   \n",
       "5              1                       0                0         0      0   \n",
       "...          ...                     ...              ...       ...    ...   \n",
       "11323          0                       0                0         0      0   \n",
       "11326          0                       0                0         0      0   \n",
       "11331          0                       0                0         0      0   \n",
       "11335          0                       0                0         0      0   \n",
       "11339          0                       0                0         0      0   \n",
       "\n",
       "       Ahmadnagar Badhla  Ahmadpur Urf Dandoopur  Ahmadpuri Urf Amanpuri  \\\n",
       "0                      0                       0                       0   \n",
       "2                      0                       0                       0   \n",
       "3                      0                       0                       0   \n",
       "4                      0                       0                       0   \n",
       "5                      0                       0                       0   \n",
       "...                  ...                     ...                     ...   \n",
       "11323                  0                       0                       0   \n",
       "11326                  0                       0                       0   \n",
       "11331                  0                       0                       0   \n",
       "11335                  0                       0                       0   \n",
       "11339                  0                       0                       0   \n",
       "\n",
       "       Aidalpur  Ajrara  ...  Timakia  Ukasia  Ukhleena  Uldeypur  Uldhan  \\\n",
       "0             0       0  ...        0       0         0         0       0   \n",
       "2             0       0  ...        0       0         0         0       0   \n",
       "3             0       0  ...        0       0         0         0       0   \n",
       "4             0       0  ...        0       0         0         0       0   \n",
       "5             0       0  ...        0       0         0         0       0   \n",
       "...         ...     ...  ...      ...     ...       ...       ...     ...   \n",
       "11323         0       0  ...        0       0         0         0       0   \n",
       "11326         0       0  ...        0       0         0         0       0   \n",
       "11331         0       0  ...        0       0         0         0       0   \n",
       "11335         0       0  ...        0       0         0         0       0   \n",
       "11339         0       0  ...        0       0         0         0       0   \n",
       "\n",
       "       Uplehra  Veerkhera  Walidpur  Yusufabad  other  \n",
       "0            0          0         0          0      0  \n",
       "2            0          0         0          0      0  \n",
       "3            0          0         0          0      0  \n",
       "4            0          0         0          0      0  \n",
       "5            0          0         0          0      0  \n",
       "...        ...        ...       ...        ...    ...  \n",
       "11323        0          0         0          0      1  \n",
       "11326        0          0         0          0      1  \n",
       "11331        0          0         0          0      1  \n",
       "11335        0          0         0          0      1  \n",
       "11339        0          0         0          0      1  \n",
       "\n",
       "[9426 rows x 625 columns]"
      ]
     },
     "execution_count": 44,
     "metadata": {},
     "output_type": "execute_result"
    }
   ],
   "source": [
    "pd.get_dummies(df10.village)"
   ]
  },
  {
   "cell_type": "markdown",
   "metadata": {},
   "source": [
    "Let's Train our data from here: Model Building"
   ]
  },
  {
   "cell_type": "code",
   "execution_count": 45,
   "metadata": {},
   "outputs": [
    {
     "data": {
      "text/html": [
       "<div>\n",
       "<style scoped>\n",
       "    .dataframe tbody tr th:only-of-type {\n",
       "        vertical-align: middle;\n",
       "    }\n",
       "\n",
       "    .dataframe tbody tr th {\n",
       "        vertical-align: top;\n",
       "    }\n",
       "\n",
       "    .dataframe thead th {\n",
       "        text-align: right;\n",
       "    }\n",
       "</style>\n",
       "<table border=\"1\" class=\"dataframe\">\n",
       "  <thead>\n",
       "    <tr style=\"text-align: right;\">\n",
       "      <th></th>\n",
       "      <th>Achikalan</th>\n",
       "      <th>Afjalpur Urf Raninagla</th>\n",
       "      <th>Afzalpur Pawati</th>\n",
       "      <th>Agwanpur</th>\n",
       "      <th>Ahara</th>\n",
       "      <th>Ahmadnagar Badhla</th>\n",
       "      <th>Ahmadpur Urf Dandoopur</th>\n",
       "      <th>Ahmadpuri Urf Amanpuri</th>\n",
       "      <th>Aidalpur</th>\n",
       "      <th>Ajrara</th>\n",
       "      <th>...</th>\n",
       "      <th>Timakia</th>\n",
       "      <th>Ukasia</th>\n",
       "      <th>Ukhleena</th>\n",
       "      <th>Uldeypur</th>\n",
       "      <th>Uldhan</th>\n",
       "      <th>Uplehra</th>\n",
       "      <th>Veerkhera</th>\n",
       "      <th>Walidpur</th>\n",
       "      <th>Yusufabad</th>\n",
       "      <th>other</th>\n",
       "    </tr>\n",
       "  </thead>\n",
       "  <tbody>\n",
       "    <tr>\n",
       "      <th>0</th>\n",
       "      <td>1</td>\n",
       "      <td>0</td>\n",
       "      <td>0</td>\n",
       "      <td>0</td>\n",
       "      <td>0</td>\n",
       "      <td>0</td>\n",
       "      <td>0</td>\n",
       "      <td>0</td>\n",
       "      <td>0</td>\n",
       "      <td>0</td>\n",
       "      <td>...</td>\n",
       "      <td>0</td>\n",
       "      <td>0</td>\n",
       "      <td>0</td>\n",
       "      <td>0</td>\n",
       "      <td>0</td>\n",
       "      <td>0</td>\n",
       "      <td>0</td>\n",
       "      <td>0</td>\n",
       "      <td>0</td>\n",
       "      <td>0</td>\n",
       "    </tr>\n",
       "    <tr>\n",
       "      <th>2</th>\n",
       "      <td>1</td>\n",
       "      <td>0</td>\n",
       "      <td>0</td>\n",
       "      <td>0</td>\n",
       "      <td>0</td>\n",
       "      <td>0</td>\n",
       "      <td>0</td>\n",
       "      <td>0</td>\n",
       "      <td>0</td>\n",
       "      <td>0</td>\n",
       "      <td>...</td>\n",
       "      <td>0</td>\n",
       "      <td>0</td>\n",
       "      <td>0</td>\n",
       "      <td>0</td>\n",
       "      <td>0</td>\n",
       "      <td>0</td>\n",
       "      <td>0</td>\n",
       "      <td>0</td>\n",
       "      <td>0</td>\n",
       "      <td>0</td>\n",
       "    </tr>\n",
       "    <tr>\n",
       "      <th>3</th>\n",
       "      <td>1</td>\n",
       "      <td>0</td>\n",
       "      <td>0</td>\n",
       "      <td>0</td>\n",
       "      <td>0</td>\n",
       "      <td>0</td>\n",
       "      <td>0</td>\n",
       "      <td>0</td>\n",
       "      <td>0</td>\n",
       "      <td>0</td>\n",
       "      <td>...</td>\n",
       "      <td>0</td>\n",
       "      <td>0</td>\n",
       "      <td>0</td>\n",
       "      <td>0</td>\n",
       "      <td>0</td>\n",
       "      <td>0</td>\n",
       "      <td>0</td>\n",
       "      <td>0</td>\n",
       "      <td>0</td>\n",
       "      <td>0</td>\n",
       "    </tr>\n",
       "  </tbody>\n",
       "</table>\n",
       "<p>3 rows × 625 columns</p>\n",
       "</div>"
      ],
      "text/plain": [
       "   Achikalan  Afjalpur Urf Raninagla  Afzalpur Pawati  Agwanpur  Ahara  \\\n",
       "0          1                       0                0         0      0   \n",
       "2          1                       0                0         0      0   \n",
       "3          1                       0                0         0      0   \n",
       "\n",
       "   Ahmadnagar Badhla  Ahmadpur Urf Dandoopur  Ahmadpuri Urf Amanpuri  \\\n",
       "0                  0                       0                       0   \n",
       "2                  0                       0                       0   \n",
       "3                  0                       0                       0   \n",
       "\n",
       "   Aidalpur  Ajrara  ...  Timakia  Ukasia  Ukhleena  Uldeypur  Uldhan  \\\n",
       "0         0       0  ...        0       0         0         0       0   \n",
       "2         0       0  ...        0       0         0         0       0   \n",
       "3         0       0  ...        0       0         0         0       0   \n",
       "\n",
       "   Uplehra  Veerkhera  Walidpur  Yusufabad  other  \n",
       "0        0          0         0          0      0  \n",
       "2        0          0         0          0      0  \n",
       "3        0          0         0          0      0  \n",
       "\n",
       "[3 rows x 625 columns]"
      ]
     },
     "execution_count": 45,
     "metadata": {},
     "output_type": "execute_result"
    }
   ],
   "source": [
    "dummies=pd.get_dummies(df10.village)\n",
    "dummies.head(3)"
   ]
  },
  {
   "cell_type": "code",
   "execution_count": 46,
   "metadata": {},
   "outputs": [],
   "source": [
    "df11=pd.concat([df10,dummies],axis='columns')"
   ]
  },
  {
   "cell_type": "markdown",
   "metadata": {},
   "source": [
    "to avoid a dummy variable trap, we should have one dummies less column so let's 1st remove first column to represnt this column we can use 0 in another column and let them know we already drop"
   ]
  },
  {
   "cell_type": "code",
   "execution_count": 47,
   "metadata": {},
   "outputs": [],
   "source": [
    "df11=pd.concat([df10,dummies.drop('other',axis='columns')],axis='columns')"
   ]
  },
  {
   "cell_type": "code",
   "execution_count": 48,
   "metadata": {},
   "outputs": [
    {
     "data": {
      "text/html": [
       "<div>\n",
       "<style scoped>\n",
       "    .dataframe tbody tr th:only-of-type {\n",
       "        vertical-align: middle;\n",
       "    }\n",
       "\n",
       "    .dataframe tbody tr th {\n",
       "        vertical-align: top;\n",
       "    }\n",
       "\n",
       "    .dataframe thead th {\n",
       "        text-align: right;\n",
       "    }\n",
       "</style>\n",
       "<table border=\"1\" class=\"dataframe\">\n",
       "  <thead>\n",
       "    <tr style=\"text-align: right;\">\n",
       "      <th></th>\n",
       "      <th>village</th>\n",
       "      <th>total_sqft</th>\n",
       "      <th>density</th>\n",
       "      <th>price</th>\n",
       "      <th>n_city</th>\n",
       "      <th>soil_in</th>\n",
       "      <th>Achikalan</th>\n",
       "      <th>Afjalpur Urf Raninagla</th>\n",
       "      <th>Afzalpur Pawati</th>\n",
       "      <th>Agwanpur</th>\n",
       "      <th>...</th>\n",
       "      <th>Tikri</th>\n",
       "      <th>Timakia</th>\n",
       "      <th>Ukasia</th>\n",
       "      <th>Ukhleena</th>\n",
       "      <th>Uldeypur</th>\n",
       "      <th>Uldhan</th>\n",
       "      <th>Uplehra</th>\n",
       "      <th>Veerkhera</th>\n",
       "      <th>Walidpur</th>\n",
       "      <th>Yusufabad</th>\n",
       "    </tr>\n",
       "  </thead>\n",
       "  <tbody>\n",
       "    <tr>\n",
       "      <th>0</th>\n",
       "      <td>Achikalan</td>\n",
       "      <td>930.0</td>\n",
       "      <td>2.0</td>\n",
       "      <td>39.00</td>\n",
       "      <td>2.0</td>\n",
       "      <td>2</td>\n",
       "      <td>1</td>\n",
       "      <td>0</td>\n",
       "      <td>0</td>\n",
       "      <td>0</td>\n",
       "      <td>...</td>\n",
       "      <td>0</td>\n",
       "      <td>0</td>\n",
       "      <td>0</td>\n",
       "      <td>0</td>\n",
       "      <td>0</td>\n",
       "      <td>0</td>\n",
       "      <td>0</td>\n",
       "      <td>0</td>\n",
       "      <td>0</td>\n",
       "      <td>0</td>\n",
       "    </tr>\n",
       "    <tr>\n",
       "      <th>2</th>\n",
       "      <td>Achikalan</td>\n",
       "      <td>1089.0</td>\n",
       "      <td>2.0</td>\n",
       "      <td>43.55</td>\n",
       "      <td>2.0</td>\n",
       "      <td>2</td>\n",
       "      <td>1</td>\n",
       "      <td>0</td>\n",
       "      <td>0</td>\n",
       "      <td>0</td>\n",
       "      <td>...</td>\n",
       "      <td>0</td>\n",
       "      <td>0</td>\n",
       "      <td>0</td>\n",
       "      <td>0</td>\n",
       "      <td>0</td>\n",
       "      <td>0</td>\n",
       "      <td>0</td>\n",
       "      <td>0</td>\n",
       "      <td>0</td>\n",
       "      <td>0</td>\n",
       "    </tr>\n",
       "    <tr>\n",
       "      <th>3</th>\n",
       "      <td>Achikalan</td>\n",
       "      <td>989.0</td>\n",
       "      <td>2.0</td>\n",
       "      <td>60.00</td>\n",
       "      <td>2.0</td>\n",
       "      <td>2</td>\n",
       "      <td>1</td>\n",
       "      <td>0</td>\n",
       "      <td>0</td>\n",
       "      <td>0</td>\n",
       "      <td>...</td>\n",
       "      <td>0</td>\n",
       "      <td>0</td>\n",
       "      <td>0</td>\n",
       "      <td>0</td>\n",
       "      <td>0</td>\n",
       "      <td>0</td>\n",
       "      <td>0</td>\n",
       "      <td>0</td>\n",
       "      <td>0</td>\n",
       "      <td>0</td>\n",
       "    </tr>\n",
       "  </tbody>\n",
       "</table>\n",
       "<p>3 rows × 630 columns</p>\n",
       "</div>"
      ],
      "text/plain": [
       "     village  total_sqft  density  price  n_city  soil_in  Achikalan  \\\n",
       "0  Achikalan       930.0      2.0  39.00     2.0        2          1   \n",
       "2  Achikalan      1089.0      2.0  43.55     2.0        2          1   \n",
       "3  Achikalan       989.0      2.0  60.00     2.0        2          1   \n",
       "\n",
       "   Afjalpur Urf Raninagla  Afzalpur Pawati  Agwanpur  ...  Tikri  Timakia  \\\n",
       "0                       0                0         0  ...      0        0   \n",
       "2                       0                0         0  ...      0        0   \n",
       "3                       0                0         0  ...      0        0   \n",
       "\n",
       "   Ukasia  Ukhleena  Uldeypur  Uldhan  Uplehra  Veerkhera  Walidpur  Yusufabad  \n",
       "0       0         0         0       0        0          0         0          0  \n",
       "2       0         0         0       0        0          0         0          0  \n",
       "3       0         0         0       0        0          0         0          0  \n",
       "\n",
       "[3 rows x 630 columns]"
      ]
     },
     "execution_count": 48,
     "metadata": {},
     "output_type": "execute_result"
    }
   ],
   "source": [
    "df11.head(3)"
   ]
  },
  {
   "cell_type": "markdown",
   "metadata": {},
   "source": [
    "lets now drop the village name "
   ]
  },
  {
   "cell_type": "code",
   "execution_count": 49,
   "metadata": {},
   "outputs": [
    {
     "data": {
      "text/html": [
       "<div>\n",
       "<style scoped>\n",
       "    .dataframe tbody tr th:only-of-type {\n",
       "        vertical-align: middle;\n",
       "    }\n",
       "\n",
       "    .dataframe tbody tr th {\n",
       "        vertical-align: top;\n",
       "    }\n",
       "\n",
       "    .dataframe thead th {\n",
       "        text-align: right;\n",
       "    }\n",
       "</style>\n",
       "<table border=\"1\" class=\"dataframe\">\n",
       "  <thead>\n",
       "    <tr style=\"text-align: right;\">\n",
       "      <th></th>\n",
       "      <th>total_sqft</th>\n",
       "      <th>density</th>\n",
       "      <th>price</th>\n",
       "      <th>n_city</th>\n",
       "      <th>soil_in</th>\n",
       "      <th>Achikalan</th>\n",
       "      <th>Afjalpur Urf Raninagla</th>\n",
       "      <th>Afzalpur Pawati</th>\n",
       "      <th>Agwanpur</th>\n",
       "      <th>Ahara</th>\n",
       "      <th>...</th>\n",
       "      <th>Tikri</th>\n",
       "      <th>Timakia</th>\n",
       "      <th>Ukasia</th>\n",
       "      <th>Ukhleena</th>\n",
       "      <th>Uldeypur</th>\n",
       "      <th>Uldhan</th>\n",
       "      <th>Uplehra</th>\n",
       "      <th>Veerkhera</th>\n",
       "      <th>Walidpur</th>\n",
       "      <th>Yusufabad</th>\n",
       "    </tr>\n",
       "  </thead>\n",
       "  <tbody>\n",
       "    <tr>\n",
       "      <th>0</th>\n",
       "      <td>930.0</td>\n",
       "      <td>2.0</td>\n",
       "      <td>39.00</td>\n",
       "      <td>2.0</td>\n",
       "      <td>2</td>\n",
       "      <td>1</td>\n",
       "      <td>0</td>\n",
       "      <td>0</td>\n",
       "      <td>0</td>\n",
       "      <td>0</td>\n",
       "      <td>...</td>\n",
       "      <td>0</td>\n",
       "      <td>0</td>\n",
       "      <td>0</td>\n",
       "      <td>0</td>\n",
       "      <td>0</td>\n",
       "      <td>0</td>\n",
       "      <td>0</td>\n",
       "      <td>0</td>\n",
       "      <td>0</td>\n",
       "      <td>0</td>\n",
       "    </tr>\n",
       "    <tr>\n",
       "      <th>2</th>\n",
       "      <td>1089.0</td>\n",
       "      <td>2.0</td>\n",
       "      <td>43.55</td>\n",
       "      <td>2.0</td>\n",
       "      <td>2</td>\n",
       "      <td>1</td>\n",
       "      <td>0</td>\n",
       "      <td>0</td>\n",
       "      <td>0</td>\n",
       "      <td>0</td>\n",
       "      <td>...</td>\n",
       "      <td>0</td>\n",
       "      <td>0</td>\n",
       "      <td>0</td>\n",
       "      <td>0</td>\n",
       "      <td>0</td>\n",
       "      <td>0</td>\n",
       "      <td>0</td>\n",
       "      <td>0</td>\n",
       "      <td>0</td>\n",
       "      <td>0</td>\n",
       "    </tr>\n",
       "  </tbody>\n",
       "</table>\n",
       "<p>2 rows × 629 columns</p>\n",
       "</div>"
      ],
      "text/plain": [
       "   total_sqft  density  price  n_city  soil_in  Achikalan  \\\n",
       "0       930.0      2.0  39.00     2.0        2          1   \n",
       "2      1089.0      2.0  43.55     2.0        2          1   \n",
       "\n",
       "   Afjalpur Urf Raninagla  Afzalpur Pawati  Agwanpur  Ahara  ...  Tikri  \\\n",
       "0                       0                0         0      0  ...      0   \n",
       "2                       0                0         0      0  ...      0   \n",
       "\n",
       "   Timakia  Ukasia  Ukhleena  Uldeypur  Uldhan  Uplehra  Veerkhera  Walidpur  \\\n",
       "0        0       0         0         0       0        0          0         0   \n",
       "2        0       0         0         0       0        0          0         0   \n",
       "\n",
       "   Yusufabad  \n",
       "0          0  \n",
       "2          0  \n",
       "\n",
       "[2 rows x 629 columns]"
      ]
     },
     "execution_count": 49,
     "metadata": {},
     "output_type": "execute_result"
    }
   ],
   "source": [
    "df12=df11.drop('village',axis='columns')\n",
    "df12.head(2)"
   ]
  },
  {
   "cell_type": "code",
   "execution_count": 50,
   "metadata": {},
   "outputs": [
    {
     "data": {
      "text/plain": [
       "(9426, 629)"
      ]
     },
     "execution_count": 50,
     "metadata": {},
     "output_type": "execute_result"
    }
   ],
   "source": [
    "df12.shape"
   ]
  },
  {
   "cell_type": "code",
   "execution_count": 51,
   "metadata": {},
   "outputs": [
    {
     "data": {
      "text/html": [
       "<div>\n",
       "<style scoped>\n",
       "    .dataframe tbody tr th:only-of-type {\n",
       "        vertical-align: middle;\n",
       "    }\n",
       "\n",
       "    .dataframe tbody tr th {\n",
       "        vertical-align: top;\n",
       "    }\n",
       "\n",
       "    .dataframe thead th {\n",
       "        text-align: right;\n",
       "    }\n",
       "</style>\n",
       "<table border=\"1\" class=\"dataframe\">\n",
       "  <thead>\n",
       "    <tr style=\"text-align: right;\">\n",
       "      <th></th>\n",
       "      <th>total_sqft</th>\n",
       "      <th>density</th>\n",
       "      <th>n_city</th>\n",
       "      <th>soil_in</th>\n",
       "      <th>Achikalan</th>\n",
       "      <th>Afjalpur Urf Raninagla</th>\n",
       "      <th>Afzalpur Pawati</th>\n",
       "      <th>Agwanpur</th>\n",
       "      <th>Ahara</th>\n",
       "      <th>Ahmadnagar Badhla</th>\n",
       "      <th>...</th>\n",
       "      <th>Tikri</th>\n",
       "      <th>Timakia</th>\n",
       "      <th>Ukasia</th>\n",
       "      <th>Ukhleena</th>\n",
       "      <th>Uldeypur</th>\n",
       "      <th>Uldhan</th>\n",
       "      <th>Uplehra</th>\n",
       "      <th>Veerkhera</th>\n",
       "      <th>Walidpur</th>\n",
       "      <th>Yusufabad</th>\n",
       "    </tr>\n",
       "  </thead>\n",
       "  <tbody>\n",
       "    <tr>\n",
       "      <th>0</th>\n",
       "      <td>930.0</td>\n",
       "      <td>2.0</td>\n",
       "      <td>2.0</td>\n",
       "      <td>2</td>\n",
       "      <td>1</td>\n",
       "      <td>0</td>\n",
       "      <td>0</td>\n",
       "      <td>0</td>\n",
       "      <td>0</td>\n",
       "      <td>0</td>\n",
       "      <td>...</td>\n",
       "      <td>0</td>\n",
       "      <td>0</td>\n",
       "      <td>0</td>\n",
       "      <td>0</td>\n",
       "      <td>0</td>\n",
       "      <td>0</td>\n",
       "      <td>0</td>\n",
       "      <td>0</td>\n",
       "      <td>0</td>\n",
       "      <td>0</td>\n",
       "    </tr>\n",
       "    <tr>\n",
       "      <th>2</th>\n",
       "      <td>1089.0</td>\n",
       "      <td>2.0</td>\n",
       "      <td>2.0</td>\n",
       "      <td>2</td>\n",
       "      <td>1</td>\n",
       "      <td>0</td>\n",
       "      <td>0</td>\n",
       "      <td>0</td>\n",
       "      <td>0</td>\n",
       "      <td>0</td>\n",
       "      <td>...</td>\n",
       "      <td>0</td>\n",
       "      <td>0</td>\n",
       "      <td>0</td>\n",
       "      <td>0</td>\n",
       "      <td>0</td>\n",
       "      <td>0</td>\n",
       "      <td>0</td>\n",
       "      <td>0</td>\n",
       "      <td>0</td>\n",
       "      <td>0</td>\n",
       "    </tr>\n",
       "    <tr>\n",
       "      <th>3</th>\n",
       "      <td>989.0</td>\n",
       "      <td>2.0</td>\n",
       "      <td>2.0</td>\n",
       "      <td>2</td>\n",
       "      <td>1</td>\n",
       "      <td>0</td>\n",
       "      <td>0</td>\n",
       "      <td>0</td>\n",
       "      <td>0</td>\n",
       "      <td>0</td>\n",
       "      <td>...</td>\n",
       "      <td>0</td>\n",
       "      <td>0</td>\n",
       "      <td>0</td>\n",
       "      <td>0</td>\n",
       "      <td>0</td>\n",
       "      <td>0</td>\n",
       "      <td>0</td>\n",
       "      <td>0</td>\n",
       "      <td>0</td>\n",
       "      <td>0</td>\n",
       "    </tr>\n",
       "    <tr>\n",
       "      <th>4</th>\n",
       "      <td>1150.0</td>\n",
       "      <td>2.0</td>\n",
       "      <td>2.0</td>\n",
       "      <td>2</td>\n",
       "      <td>1</td>\n",
       "      <td>0</td>\n",
       "      <td>0</td>\n",
       "      <td>0</td>\n",
       "      <td>0</td>\n",
       "      <td>0</td>\n",
       "      <td>...</td>\n",
       "      <td>0</td>\n",
       "      <td>0</td>\n",
       "      <td>0</td>\n",
       "      <td>0</td>\n",
       "      <td>0</td>\n",
       "      <td>0</td>\n",
       "      <td>0</td>\n",
       "      <td>0</td>\n",
       "      <td>0</td>\n",
       "      <td>0</td>\n",
       "    </tr>\n",
       "    <tr>\n",
       "      <th>5</th>\n",
       "      <td>708.0</td>\n",
       "      <td>1.0</td>\n",
       "      <td>1.0</td>\n",
       "      <td>1</td>\n",
       "      <td>1</td>\n",
       "      <td>0</td>\n",
       "      <td>0</td>\n",
       "      <td>0</td>\n",
       "      <td>0</td>\n",
       "      <td>0</td>\n",
       "      <td>...</td>\n",
       "      <td>0</td>\n",
       "      <td>0</td>\n",
       "      <td>0</td>\n",
       "      <td>0</td>\n",
       "      <td>0</td>\n",
       "      <td>0</td>\n",
       "      <td>0</td>\n",
       "      <td>0</td>\n",
       "      <td>0</td>\n",
       "      <td>0</td>\n",
       "    </tr>\n",
       "  </tbody>\n",
       "</table>\n",
       "<p>5 rows × 628 columns</p>\n",
       "</div>"
      ],
      "text/plain": [
       "   total_sqft  density  n_city  soil_in  Achikalan  Afjalpur Urf Raninagla  \\\n",
       "0       930.0      2.0     2.0        2          1                       0   \n",
       "2      1089.0      2.0     2.0        2          1                       0   \n",
       "3       989.0      2.0     2.0        2          1                       0   \n",
       "4      1150.0      2.0     2.0        2          1                       0   \n",
       "5       708.0      1.0     1.0        1          1                       0   \n",
       "\n",
       "   Afzalpur Pawati  Agwanpur  Ahara  Ahmadnagar Badhla  ...  Tikri  Timakia  \\\n",
       "0                0         0      0                  0  ...      0        0   \n",
       "2                0         0      0                  0  ...      0        0   \n",
       "3                0         0      0                  0  ...      0        0   \n",
       "4                0         0      0                  0  ...      0        0   \n",
       "5                0         0      0                  0  ...      0        0   \n",
       "\n",
       "   Ukasia  Ukhleena  Uldeypur  Uldhan  Uplehra  Veerkhera  Walidpur  Yusufabad  \n",
       "0       0         0         0       0        0          0         0          0  \n",
       "2       0         0         0       0        0          0         0          0  \n",
       "3       0         0         0       0        0          0         0          0  \n",
       "4       0         0         0       0        0          0         0          0  \n",
       "5       0         0         0       0        0          0         0          0  \n",
       "\n",
       "[5 rows x 628 columns]"
      ]
     },
     "execution_count": 51,
     "metadata": {},
     "output_type": "execute_result"
    }
   ],
   "source": [
    "X=df12.drop('price',axis='columns')\n",
    "X.head()"
   ]
  },
  {
   "cell_type": "code",
   "execution_count": 52,
   "metadata": {},
   "outputs": [
    {
     "data": {
      "text/plain": [
       "0    39.00\n",
       "2    43.55\n",
       "3    60.00\n",
       "4    38.00\n",
       "5    28.32\n",
       "Name: price, dtype: float64"
      ]
     },
     "execution_count": 52,
     "metadata": {},
     "output_type": "execute_result"
    }
   ],
   "source": [
    "y=df12.price\n",
    "y.head()"
   ]
  },
  {
   "cell_type": "markdown",
   "metadata": {},
   "source": [
    "lets divide our dataset into traing and testing dataset so that we use training dataset to train our model and to evaulate the model performance we use test dataset  "
   ]
  },
  {
   "cell_type": "markdown",
   "metadata": {},
   "source": [
    "let import train test split method from sklearn "
   ]
  },
  {
   "cell_type": "code",
   "execution_count": 53,
   "metadata": {},
   "outputs": [],
   "source": [
    "from sklearn.model_selection import train_test_split\n",
    "X_train,X_test,y_train,y_test=train_test_split(X,y,test_size=0.2,random_state=10)"
   ]
  },
  {
   "cell_type": "markdown",
   "metadata": {},
   "source": [
    "here test size=0.2 mean I want 20% of my sample to be test sample and remaning 80% for model training   "
   ]
  },
  {
   "cell_type": "markdown",
   "metadata": {},
   "source": [
    "lets now create a linear regression model  and call fit method on x_train and y_train and once the model is train next step to evaulte the score "
   ]
  },
  {
   "cell_type": "code",
   "execution_count": 54,
   "metadata": {},
   "outputs": [
    {
     "data": {
      "text/plain": [
       "0.7695815659191456"
      ]
     },
     "execution_count": 54,
     "metadata": {},
     "output_type": "execute_result"
    }
   ],
   "source": [
    "from sklearn.linear_model import LinearRegression\n",
    "lr_clf=LinearRegression()\n",
    "lr_clf.fit(X_train,y_train)\n",
    "lr_clf.score(X_test,y_test)"
   ]
  },
  {
   "cell_type": "markdown",
   "metadata": {},
   "source": [
    "76% pretty goood, so now first used k fold cross validation method"
   ]
  },
  {
   "cell_type": "code",
   "execution_count": 55,
   "metadata": {},
   "outputs": [
    {
     "data": {
      "text/plain": [
       "array([0.7575627 , 0.7367095 , 0.36582259, 0.74166579, 0.70910427])"
      ]
     },
     "execution_count": 55,
     "metadata": {},
     "output_type": "execute_result"
    }
   ],
   "source": [
    "from sklearn.model_selection import ShuffleSplit\n",
    "from sklearn.model_selection import cross_val_score\n",
    "cv=ShuffleSplit(n_splits=5,test_size=0.2,random_state=0)\n",
    "cross_val_score(LinearRegression(),X,y,cv=cv)"
   ]
  },
  {
   "cell_type": "markdown",
   "metadata": {},
   "source": [
    "shuffle split will randomie my sample so that each of the fold have equal distb. of my datasample"
   ]
  },
  {
   "cell_type": "markdown",
   "metadata": {},
   "source": [
    "lets try other regressiion algortihm to make our score more than 80% so that one of them will give me best score  so lets use method grid  search CV (best API in sklearn which can run our model on different regression and parameter and tell us the best score using find_best_model_using_gridsearchcv function"
   ]
  },
  {
   "cell_type": "code",
   "execution_count": 56,
   "metadata": {},
   "outputs": [],
   "source": [
    "from sklearn.model_selection import GridSearchCV\n",
    "from sklearn.linear_model import Lasso\n",
    "from sklearn.tree import DecisionTreeRegressor\n",
    "def find_best_model_using_gridsearchcv(X,y):\n",
    "    algos = {\n",
    "        'linear_regression' : {\n",
    "            'model': LinearRegression(),\n",
    "            'params': {\n",
    "                'normalize': [True, False]\n",
    "            }\n",
    "        },\n",
    "        'lasso': {\n",
    "            'model': Lasso(),\n",
    "            'params': {\n",
    "                'alpha': [1,2],\n",
    "                'selection': ['random', 'cyclic']\n",
    "            }\n",
    "        },\n",
    "        'decision_tree': {\n",
    "            'model': DecisionTreeRegressor(),\n",
    "            'params': {\n",
    "                'criterion' : ['mse','friedman_mse'],\n",
    "                'splitter': ['best','random']\n",
    "            }\n",
    "        }\n",
    "    }\n",
    "    scores = []\n",
    "    cv = ShuffleSplit(n_splits=5, test_size=0.2, random_state=0)\n",
    "    for algo_name, config in algos.items():\n",
    "        gs =  GridSearchCV(config['model'], config['params'], cv=cv, return_train_score=False)\n",
    "        gs.fit(X,y)\n",
    "        scores.append({\n",
    "            'model': algo_name,\n",
    "            'best_score': gs.best_score_,\n",
    "            'best_params': gs.best_params_\n",
    "        })\n",
    "\n",
    "    return pd.DataFrame(scores,columns=['model','best_score','best_params'])\n",
    "\n"
   ]
  },
  {
   "cell_type": "code",
   "execution_count": null,
   "metadata": {},
   "outputs": [],
   "source": []
  },
  {
   "cell_type": "code",
   "execution_count": null,
   "metadata": {},
   "outputs": [],
   "source": []
  },
  {
   "cell_type": "markdown",
   "metadata": {},
   "source": [
    "Based on above results we can say that decision_tree gives the best score. Hence we will use that."
   ]
  },
  {
   "cell_type": "code",
   "execution_count": 57,
   "metadata": {},
   "outputs": [],
   "source": [
    "def predict_price(village,sqft,density,soil_in):    \n",
    "    loc_index = np.where(X.columns==village)[0][0]\n",
    "\n",
    "    x = np.zeros(len(X.columns))\n",
    "    x[0] = sqft\n",
    "    x[1] = density\n",
    "    x[2] = soil_in\n",
    "    if loc_index >= 0:\n",
    "        x[loc_index] = 1\n",
    "\n",
    "    return lr_clf.predict([x])[0]\n"
   ]
  },
  {
   "cell_type": "code",
   "execution_count": 58,
   "metadata": {},
   "outputs": [
    {
     "data": {
      "text/plain": [
       "Index(['total_sqft', 'density', 'n_city', 'soil_in', 'Achikalan',\n",
       "       'Afjalpur Urf Raninagla', 'Afzalpur Pawati', 'Agwanpur', 'Ahara',\n",
       "       'Ahmadnagar Badhla',\n",
       "       ...\n",
       "       'Tikri', 'Timakia', 'Ukasia', 'Ukhleena', 'Uldeypur', 'Uldhan',\n",
       "       'Uplehra', 'Veerkhera', 'Walidpur', 'Yusufabad'],\n",
       "      dtype='object', length=628)"
      ]
     },
     "execution_count": 58,
     "metadata": {},
     "output_type": "execute_result"
    }
   ],
   "source": [
    "X.columns"
   ]
  },
  {
   "cell_type": "code",
   "execution_count": null,
   "metadata": {},
   "outputs": [],
   "source": [
    " "
   ]
  },
  {
   "cell_type": "code",
   "execution_count": null,
   "metadata": {},
   "outputs": [],
   "source": []
  },
  {
   "cell_type": "code",
   "execution_count": 59,
   "metadata": {},
   "outputs": [
    {
     "data": {
      "text/plain": [
       "53.134176958370375"
      ]
     },
     "execution_count": 59,
     "metadata": {},
     "output_type": "execute_result"
    }
   ],
   "source": [
    "predict_price('Karnawal Rural',1000, 2, 2)"
   ]
  },
  {
   "cell_type": "markdown",
   "metadata": {},
   "source": [
    "53 thousand for 1 year is estimted price for land cultivation"
   ]
  },
  {
   "cell_type": "code",
   "execution_count": null,
   "metadata": {},
   "outputs": [],
   "source": []
  },
  {
   "cell_type": "code",
   "execution_count": null,
   "metadata": {},
   "outputs": [],
   "source": []
  },
  {
   "cell_type": "code",
   "execution_count": 60,
   "metadata": {},
   "outputs": [
    {
     "data": {
      "text/plain": [
       "66.19630558491237"
      ]
     },
     "execution_count": 60,
     "metadata": {},
     "output_type": "execute_result"
    }
   ],
   "source": [
    "predict_price('Karnawal Rural',1000, 3, 3)"
   ]
  },
  {
   "cell_type": "code",
   "execution_count": 61,
   "metadata": {},
   "outputs": [
    {
     "data": {
      "text/plain": [
       "79.25843421145434"
      ]
     },
     "execution_count": 61,
     "metadata": {},
     "output_type": "execute_result"
    }
   ],
   "source": [
    "predict_price('Karnawal Rural',1000, 4, 4)"
   ]
  },
  {
   "cell_type": "code",
   "execution_count": 62,
   "metadata": {},
   "outputs": [
    {
     "data": {
      "text/plain": [
       "92.32056283799632"
      ]
     },
     "execution_count": 62,
     "metadata": {},
     "output_type": "execute_result"
    }
   ],
   "source": [
    "predict_price('Karnawal Rural',1000, 5, 5)"
   ]
  },
  {
   "cell_type": "markdown",
   "metadata": {},
   "source": [
    "we can clearly see when we increase fertile index and population desnity index price increase so our model is correct "
   ]
  },
  {
   "cell_type": "markdown",
   "metadata": {},
   "source": [
    "lets import this model to a pickle file and then it will be used it in our python flask server "
   ]
  },
  {
   "cell_type": "code",
   "execution_count": 63,
   "metadata": {},
   "outputs": [],
   "source": [
    "import pickle\n",
    "with open('agriculture_land_price_prediction_model.pickle','wb') as f:\n",
    "    pickle.dump(lr_clf,f)"
   ]
  },
  {
   "cell_type": "markdown",
   "metadata": {},
   "source": [
    "Export location and column information to a file that will be useful later on in our prediction application"
   ]
  },
  {
   "cell_type": "code",
   "execution_count": 64,
   "metadata": {},
   "outputs": [],
   "source": [
    "import json\n",
    "columns = {\n",
    "    'data_columns' : [col.lower() for col in X.columns]\n",
    "}\n",
    "with open(\"columns.json\",\"w\") as f:\n",
    "    f.write(json.dumps(columns))"
   ]
  },
  {
   "cell_type": "code",
   "execution_count": null,
   "metadata": {},
   "outputs": [],
   "source": []
  },
  {
   "cell_type": "code",
   "execution_count": null,
   "metadata": {},
   "outputs": [],
   "source": []
  },
  {
   "cell_type": "code",
   "execution_count": null,
   "metadata": {},
   "outputs": [],
   "source": []
  },
  {
   "cell_type": "code",
   "execution_count": null,
   "metadata": {},
   "outputs": [],
   "source": []
  },
  {
   "cell_type": "code",
   "execution_count": null,
   "metadata": {},
   "outputs": [],
   "source": []
  },
  {
   "cell_type": "code",
   "execution_count": null,
   "metadata": {},
   "outputs": [],
   "source": []
  },
  {
   "cell_type": "code",
   "execution_count": null,
   "metadata": {},
   "outputs": [],
   "source": []
  },
  {
   "cell_type": "code",
   "execution_count": null,
   "metadata": {},
   "outputs": [],
   "source": []
  },
  {
   "cell_type": "code",
   "execution_count": null,
   "metadata": {},
   "outputs": [],
   "source": []
  },
  {
   "cell_type": "code",
   "execution_count": null,
   "metadata": {},
   "outputs": [],
   "source": []
  },
  {
   "cell_type": "code",
   "execution_count": null,
   "metadata": {},
   "outputs": [],
   "source": []
  },
  {
   "cell_type": "code",
   "execution_count": null,
   "metadata": {},
   "outputs": [],
   "source": []
  },
  {
   "cell_type": "code",
   "execution_count": null,
   "metadata": {},
   "outputs": [],
   "source": []
  },
  {
   "cell_type": "code",
   "execution_count": null,
   "metadata": {},
   "outputs": [],
   "source": []
  },
  {
   "cell_type": "code",
   "execution_count": null,
   "metadata": {},
   "outputs": [],
   "source": []
  },
  {
   "cell_type": "code",
   "execution_count": null,
   "metadata": {},
   "outputs": [],
   "source": []
  },
  {
   "cell_type": "code",
   "execution_count": null,
   "metadata": {},
   "outputs": [],
   "source": []
  },
  {
   "cell_type": "code",
   "execution_count": null,
   "metadata": {},
   "outputs": [],
   "source": []
  },
  {
   "cell_type": "code",
   "execution_count": null,
   "metadata": {},
   "outputs": [],
   "source": []
  },
  {
   "cell_type": "code",
   "execution_count": null,
   "metadata": {},
   "outputs": [],
   "source": []
  },
  {
   "cell_type": "code",
   "execution_count": null,
   "metadata": {},
   "outputs": [],
   "source": []
  },
  {
   "cell_type": "code",
   "execution_count": null,
   "metadata": {},
   "outputs": [],
   "source": []
  },
  {
   "cell_type": "code",
   "execution_count": null,
   "metadata": {},
   "outputs": [],
   "source": []
  },
  {
   "cell_type": "code",
   "execution_count": null,
   "metadata": {},
   "outputs": [],
   "source": []
  },
  {
   "cell_type": "code",
   "execution_count": null,
   "metadata": {},
   "outputs": [],
   "source": []
  },
  {
   "cell_type": "markdown",
   "metadata": {},
   "source": []
  },
  {
   "cell_type": "code",
   "execution_count": null,
   "metadata": {},
   "outputs": [],
   "source": []
  },
  {
   "cell_type": "code",
   "execution_count": null,
   "metadata": {},
   "outputs": [],
   "source": []
  },
  {
   "cell_type": "code",
   "execution_count": null,
   "metadata": {},
   "outputs": [],
   "source": []
  },
  {
   "cell_type": "code",
   "execution_count": null,
   "metadata": {},
   "outputs": [],
   "source": []
  },
  {
   "cell_type": "code",
   "execution_count": null,
   "metadata": {},
   "outputs": [],
   "source": []
  },
  {
   "cell_type": "code",
   "execution_count": null,
   "metadata": {},
   "outputs": [],
   "source": []
  },
  {
   "cell_type": "code",
   "execution_count": null,
   "metadata": {},
   "outputs": [],
   "source": []
  },
  {
   "cell_type": "code",
   "execution_count": null,
   "metadata": {},
   "outputs": [],
   "source": []
  },
  {
   "cell_type": "code",
   "execution_count": null,
   "metadata": {},
   "outputs": [],
   "source": []
  },
  {
   "cell_type": "code",
   "execution_count": null,
   "metadata": {},
   "outputs": [],
   "source": []
  },
  {
   "cell_type": "code",
   "execution_count": null,
   "metadata": {},
   "outputs": [],
   "source": []
  },
  {
   "cell_type": "code",
   "execution_count": null,
   "metadata": {},
   "outputs": [],
   "source": []
  },
  {
   "cell_type": "code",
   "execution_count": null,
   "metadata": {},
   "outputs": [],
   "source": []
  },
  {
   "cell_type": "code",
   "execution_count": null,
   "metadata": {},
   "outputs": [],
   "source": []
  },
  {
   "cell_type": "code",
   "execution_count": null,
   "metadata": {},
   "outputs": [],
   "source": []
  },
  {
   "cell_type": "code",
   "execution_count": null,
   "metadata": {},
   "outputs": [],
   "source": []
  },
  {
   "cell_type": "code",
   "execution_count": null,
   "metadata": {},
   "outputs": [],
   "source": []
  },
  {
   "cell_type": "code",
   "execution_count": null,
   "metadata": {},
   "outputs": [],
   "source": []
  },
  {
   "cell_type": "code",
   "execution_count": null,
   "metadata": {},
   "outputs": [],
   "source": []
  },
  {
   "cell_type": "code",
   "execution_count": null,
   "metadata": {},
   "outputs": [],
   "source": []
  },
  {
   "cell_type": "code",
   "execution_count": null,
   "metadata": {},
   "outputs": [],
   "source": []
  },
  {
   "cell_type": "code",
   "execution_count": null,
   "metadata": {},
   "outputs": [],
   "source": []
  },
  {
   "cell_type": "code",
   "execution_count": null,
   "metadata": {},
   "outputs": [],
   "source": []
  },
  {
   "cell_type": "code",
   "execution_count": null,
   "metadata": {},
   "outputs": [],
   "source": []
  },
  {
   "cell_type": "code",
   "execution_count": null,
   "metadata": {},
   "outputs": [],
   "source": []
  },
  {
   "cell_type": "code",
   "execution_count": null,
   "metadata": {},
   "outputs": [],
   "source": []
  },
  {
   "cell_type": "code",
   "execution_count": null,
   "metadata": {},
   "outputs": [],
   "source": []
  },
  {
   "cell_type": "code",
   "execution_count": null,
   "metadata": {},
   "outputs": [],
   "source": []
  },
  {
   "cell_type": "code",
   "execution_count": null,
   "metadata": {},
   "outputs": [],
   "source": []
  },
  {
   "cell_type": "code",
   "execution_count": null,
   "metadata": {},
   "outputs": [],
   "source": []
  },
  {
   "cell_type": "code",
   "execution_count": null,
   "metadata": {},
   "outputs": [],
   "source": []
  },
  {
   "cell_type": "code",
   "execution_count": null,
   "metadata": {},
   "outputs": [],
   "source": []
  },
  {
   "cell_type": "code",
   "execution_count": null,
   "metadata": {},
   "outputs": [],
   "source": []
  },
  {
   "cell_type": "code",
   "execution_count": null,
   "metadata": {},
   "outputs": [],
   "source": []
  },
  {
   "cell_type": "code",
   "execution_count": null,
   "metadata": {},
   "outputs": [],
   "source": []
  },
  {
   "cell_type": "code",
   "execution_count": null,
   "metadata": {},
   "outputs": [],
   "source": []
  },
  {
   "cell_type": "code",
   "execution_count": null,
   "metadata": {},
   "outputs": [],
   "source": []
  },
  {
   "cell_type": "code",
   "execution_count": null,
   "metadata": {},
   "outputs": [],
   "source": []
  },
  {
   "cell_type": "code",
   "execution_count": null,
   "metadata": {},
   "outputs": [],
   "source": []
  },
  {
   "cell_type": "code",
   "execution_count": null,
   "metadata": {},
   "outputs": [],
   "source": []
  },
  {
   "cell_type": "code",
   "execution_count": null,
   "metadata": {},
   "outputs": [],
   "source": []
  },
  {
   "cell_type": "code",
   "execution_count": null,
   "metadata": {},
   "outputs": [],
   "source": []
  },
  {
   "cell_type": "code",
   "execution_count": null,
   "metadata": {},
   "outputs": [],
   "source": []
  },
  {
   "cell_type": "code",
   "execution_count": null,
   "metadata": {},
   "outputs": [],
   "source": []
  },
  {
   "cell_type": "code",
   "execution_count": null,
   "metadata": {},
   "outputs": [],
   "source": []
  },
  {
   "cell_type": "code",
   "execution_count": null,
   "metadata": {},
   "outputs": [],
   "source": []
  },
  {
   "cell_type": "code",
   "execution_count": null,
   "metadata": {},
   "outputs": [],
   "source": []
  },
  {
   "cell_type": "code",
   "execution_count": null,
   "metadata": {},
   "outputs": [],
   "source": []
  },
  {
   "cell_type": "code",
   "execution_count": null,
   "metadata": {},
   "outputs": [],
   "source": []
  },
  {
   "cell_type": "code",
   "execution_count": null,
   "metadata": {},
   "outputs": [],
   "source": []
  },
  {
   "cell_type": "code",
   "execution_count": null,
   "metadata": {},
   "outputs": [],
   "source": []
  },
  {
   "cell_type": "code",
   "execution_count": null,
   "metadata": {},
   "outputs": [],
   "source": []
  },
  {
   "cell_type": "code",
   "execution_count": null,
   "metadata": {},
   "outputs": [],
   "source": []
  },
  {
   "cell_type": "code",
   "execution_count": null,
   "metadata": {},
   "outputs": [],
   "source": []
  },
  {
   "cell_type": "code",
   "execution_count": null,
   "metadata": {},
   "outputs": [],
   "source": []
  },
  {
   "cell_type": "code",
   "execution_count": null,
   "metadata": {},
   "outputs": [],
   "source": []
  },
  {
   "cell_type": "code",
   "execution_count": null,
   "metadata": {},
   "outputs": [],
   "source": []
  },
  {
   "cell_type": "code",
   "execution_count": null,
   "metadata": {},
   "outputs": [],
   "source": []
  },
  {
   "cell_type": "code",
   "execution_count": 65,
   "metadata": {},
   "outputs": [
    {
     "data": {
      "image/png": "[encoded data removed]",
      "text/plain": [
       "<Figure size 1080x720 with 1 Axes>"
      ]
     },
     "metadata": {
      "needs_background": "light"
     },
     "output_type": "display_data"
    }
   ],
   "source": [
    "plot_scatter_chart(df7,\"Pepla\")"
   ]
  },
  {
   "cell_type": "code",
   "execution_count": null,
   "metadata": {},
   "outputs": [],
   "source": []
  },
  {
   "cell_type": "code",
   "execution_count": null,
   "metadata": {
    "scrolled": true
   },
   "outputs": [],
   "source": []
  },
  {
   "cell_type": "markdown",
   "metadata": {},
   "source": []
  },
  {
   "cell_type": "code",
   "execution_count": null,
   "metadata": {},
   "outputs": [],
   "source": []
  },
  {
   "cell_type": "code",
   "execution_count": null,
   "metadata": {},
   "outputs": [],
   "source": []
  },
  {
   "cell_type": "code",
   "execution_count": null,
   "metadata": {},
   "outputs": [],
   "source": []
  },
  {
   "cell_type": "code",
   "execution_count": null,
   "metadata": {},
   "outputs": [],
   "source": []
  },
  {
   "cell_type": "code",
   "execution_count": null,
   "metadata": {},
   "outputs": [],
   "source": []
  },
  {
   "cell_type": "code",
   "execution_count": null,
   "metadata": {},
   "outputs": [],
   "source": []
  },
  {
   "cell_type": "code",
   "execution_count": null,
   "metadata": {},
   "outputs": [],
   "source": []
  },
  {
   "cell_type": "code",
   "execution_count": null,
   "metadata": {},
   "outputs": [],
   "source": []
  },
  {
   "cell_type": "code",
   "execution_count": null,
   "metadata": {},
   "outputs": [],
   "source": []
  },
  {
   "cell_type": "code",
   "execution_count": null,
   "metadata": {},
   "outputs": [],
   "source": []
  },
  {
   "cell_type": "code",
   "execution_count": null,
   "metadata": {},
   "outputs": [],
   "source": []
  },
  {
   "cell_type": "code",
   "execution_count": null,
   "metadata": {},
   "outputs": [],
   "source": []
  },
  {
   "cell_type": "code",
   "execution_count": null,
   "metadata": {},
   "outputs": [],
   "source": []
  },
  {
   "cell_type": "code",
   "execution_count": null,
   "metadata": {},
   "outputs": [],
   "source": []
  },
  {
   "cell_type": "code",
   "execution_count": null,
   "metadata": {},
   "outputs": [],
   "source": []
  },
  {
   "cell_type": "code",
   "execution_count": null,
   "metadata": {},
   "outputs": [],
   "source": []
  },
  {
   "cell_type": "code",
   "execution_count": null,
   "metadata": {},
   "outputs": [],
   "source": []
  },
  {
   "cell_type": "code",
   "execution_count": null,
   "metadata": {},
   "outputs": [],
   "source": []
  },
  {
   "cell_type": "code",
   "execution_count": null,
   "metadata": {},
   "outputs": [],
   "source": []
  },
  {
   "cell_type": "code",
   "execution_count": null,
   "metadata": {},
   "outputs": [],
   "source": []
  },
  {
   "cell_type": "code",
   "execution_count": null,
   "metadata": {},
   "outputs": [],
   "source": []
  },
  {
   "cell_type": "code",
   "execution_count": null,
   "metadata": {},
   "outputs": [],
   "source": []
  },
  {
   "cell_type": "code",
   "execution_count": null,
   "metadata": {},
   "outputs": [],
   "source": []
  },
  {
   "cell_type": "code",
   "execution_count": null,
   "metadata": {},
   "outputs": [],
   "source": []
  },
  {
   "cell_type": "markdown",
   "metadata": {},
   "source": []
  },
  {
   "cell_type": "code",
   "execution_count": null,
   "metadata": {},
   "outputs": [],
   "source": []
  },
  {
   "cell_type": "code",
   "execution_count": null,
   "metadata": {},
   "outputs": [],
   "source": []
  },
  {
   "cell_type": "code",
   "execution_count": null,
   "metadata": {},
   "outputs": [],
   "source": []
  },
  {
   "cell_type": "code",
   "execution_count": null,
   "metadata": {},
   "outputs": [],
   "source": []
  },
  {
   "cell_type": "code",
   "execution_count": null,
   "metadata": {},
   "outputs": [],
   "source": []
  },
  {
   "cell_type": "code",
   "execution_count": null,
   "metadata": {},
   "outputs": [],
   "source": []
  },
  {
   "cell_type": "code",
   "execution_count": null,
   "metadata": {},
   "outputs": [],
   "source": []
  },
  {
   "cell_type": "code",
   "execution_count": null,
   "metadata": {},
   "outputs": [],
   "source": []
  },
  {
   "cell_type": "code",
   "execution_count": null,
   "metadata": {},
   "outputs": [],
   "source": []
  },
  {
   "cell_type": "code",
   "execution_count": null,
   "metadata": {},
   "outputs": [],
   "source": []
  },
  {
   "cell_type": "code",
   "execution_count": null,
   "metadata": {},
   "outputs": [],
   "source": []
  },
  {
   "cell_type": "code",
   "execution_count": null,
   "metadata": {},
   "outputs": [],
   "source": []
  },
  {
   "cell_type": "code",
   "execution_count": null,
   "metadata": {},
   "outputs": [],
   "source": []
  },
  {
   "cell_type": "code",
   "execution_count": null,
   "metadata": {},
   "outputs": [],
   "source": [
    "\n"
   ]
  },
  {
   "cell_type": "code",
   "execution_count": null,
   "metadata": {},
   "outputs": [],
   "source": []
  },
  {
   "cell_type": "code",
   "execution_count": null,
   "metadata": {},
   "outputs": [],
   "source": []
  },
  {
   "cell_type": "code",
   "execution_count": null,
   "metadata": {},
   "outputs": [],
   "source": []
  },
  {
   "cell_type": "code",
   "execution_count": null,
   "metadata": {},
   "outputs": [],
   "source": []
  },
  {
   "cell_type": "code",
   "execution_count": null,
   "metadata": {},
   "outputs": [],
   "source": []
  },
  {
   "cell_type": "code",
   "execution_count": null,
   "metadata": {},
   "outputs": [],
   "source": []
  },
  {
   "cell_type": "code",
   "execution_count": null,
   "metadata": {},
   "outputs": [],
   "source": []
  },
  {
   "cell_type": "code",
   "execution_count": null,
   "metadata": {},
   "outputs": [],
   "source": []
  },
  {
   "cell_type": "code",
   "execution_count": null,
   "metadata": {},
   "outputs": [],
   "source": []
  },
  {
   "cell_type": "code",
   "execution_count": null,
   "metadata": {},
   "outputs": [],
   "source": []
  },
  {
   "cell_type": "code",
   "execution_count": null,
   "metadata": {},
   "outputs": [],
   "source": []
  },
  {
   "cell_type": "code",
   "execution_count": null,
   "metadata": {},
   "outputs": [],
   "source": []
  },
  {
   "cell_type": "code",
   "execution_count": null,
   "metadata": {},
   "outputs": [],
   "source": []
  },
  {
   "cell_type": "code",
   "execution_count": null,
   "metadata": {},
   "outputs": [],
   "source": []
  },
  {
   "cell_type": "code",
   "execution_count": null,
   "metadata": {},
   "outputs": [],
   "source": []
  },
  {
   "cell_type": "code",
   "execution_count": null,
   "metadata": {},
   "outputs": [],
   "source": []
  },
  {
   "cell_type": "code",
   "execution_count": null,
   "metadata": {},
   "outputs": [],
   "source": []
  },
  {
   "cell_type": "code",
   "execution_count": null,
   "metadata": {},
   "outputs": [],
   "source": []
  },
  {
   "cell_type": "code",
   "execution_count": null,
   "metadata": {},
   "outputs": [],
   "source": []
  },
  {
   "cell_type": "code",
   "execution_count": null,
   "metadata": {},
   "outputs": [],
   "source": []
  },
  {
   "cell_type": "code",
   "execution_count": null,
   "metadata": {},
   "outputs": [],
   "source": []
  },
  {
   "cell_type": "code",
   "execution_count": null,
   "metadata": {},
   "outputs": [],
   "source": []
  },
  {
   "cell_type": "code",
   "execution_count": null,
   "metadata": {},
   "outputs": [],
   "source": []
  },
  {
   "cell_type": "code",
   "execution_count": null,
   "metadata": {},
   "outputs": [],
   "source": []
  },
  {
   "cell_type": "code",
   "execution_count": null,
   "metadata": {},
   "outputs": [],
   "source": []
  },
  {
   "cell_type": "code",
   "execution_count": null,
   "metadata": {},
   "outputs": [],
   "source": []
  },
  {
   "cell_type": "code",
   "execution_count": null,
   "metadata": {},
   "outputs": [],
   "source": []
  },
  {
   "cell_type": "code",
   "execution_count": null,
   "metadata": {},
   "outputs": [],
   "source": []
  },
  {
   "cell_type": "code",
   "execution_count": null,
   "metadata": {},
   "outputs": [],
   "source": []
  },
  {
   "cell_type": "code",
   "execution_count": null,
   "metadata": {},
   "outputs": [],
   "source": [
    " "
   ]
  },
  {
   "cell_type": "code",
   "execution_count": null,
   "metadata": {},
   "outputs": [],
   "source": []
  },
  {
   "cell_type": "code",
   "execution_count": null,
   "metadata": {},
   "outputs": [],
   "source": []
  },
  {
   "cell_type": "code",
   "execution_count": null,
   "metadata": {},
   "outputs": [],
   "source": []
  },
  {
   "cell_type": "code",
   "execution_count": null,
   "metadata": {},
   "outputs": [],
   "source": []
  },
  {
   "cell_type": "code",
   "execution_count": null,
   "metadata": {},
   "outputs": [],
   "source": []
  },
  {
   "cell_type": "code",
   "execution_count": null,
   "metadata": {},
   "outputs": [],
   "source": []
  },
  {
   "cell_type": "code",
   "execution_count": null,
   "metadata": {},
   "outputs": [],
   "source": []
  },
  {
   "cell_type": "code",
   "execution_count": null,
   "metadata": {},
   "outputs": [],
   "source": []
  },
  {
   "cell_type": "code",
   "execution_count": null,
   "metadata": {},
   "outputs": [],
   "source": []
  },
  {
   "cell_type": "code",
   "execution_count": null,
   "metadata": {},
   "outputs": [],
   "source": []
  },
  {
   "cell_type": "code",
   "execution_count": null,
   "metadata": {},
   "outputs": [],
   "source": []
  },
  {
   "cell_type": "code",
   "execution_count": null,
   "metadata": {},
   "outputs": [],
   "source": []
  },
  {
   "cell_type": "code",
   "execution_count": null,
   "metadata": {},
   "outputs": [],
   "source": [
    " "
   ]
  },
  {
   "cell_type": "code",
   "execution_count": null,
   "metadata": {},
   "outputs": [],
   "source": []
  },
  {
   "cell_type": "code",
   "execution_count": null,
   "metadata": {},
   "outputs": [],
   "source": []
  },
  {
   "cell_type": "code",
   "execution_count": null,
   "metadata": {},
   "outputs": [],
   "source": []
  },
  {
   "cell_type": "code",
   "execution_count": null,
   "metadata": {},
   "outputs": [],
   "source": []
  },
  {
   "cell_type": "code",
   "execution_count": null,
   "metadata": {},
   "outputs": [],
   "source": []
  },
  {
   "cell_type": "code",
   "execution_count": null,
   "metadata": {},
   "outputs": [],
   "source": []
  },
  {
   "cell_type": "code",
   "execution_count": null,
   "metadata": {},
   "outputs": [],
   "source": []
  }
 ],
 "metadata": {
  "kernelspec": {
   "display_name": "Python 3",
   "language": "python",
   "name": "python3"
  },
  "language_info": {
   "codemirror_mode": {
    "name": "ipython",
    "version": 3
   },
   "file_extension": ".py",
   "mimetype": "text/x-python",
   "name": "python",
   "nbconvert_exporter": "python",
   "pygments_lexer": "ipython3",
   "version": "3.8.5"
  }
 },
 "nbformat": 4,
 "nbformat_minor": 4
}
